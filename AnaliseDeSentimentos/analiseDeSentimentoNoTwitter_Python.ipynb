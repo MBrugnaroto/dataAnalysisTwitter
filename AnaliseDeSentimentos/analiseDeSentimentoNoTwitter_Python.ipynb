{
 "cells": [
  {
   "cell_type": "markdown",
   "metadata": {},
   "source": [
    "Importação de pacotes"
   ]
  },
  {
   "cell_type": "code",
   "execution_count": 1,
   "metadata": {},
   "outputs": [],
   "source": [
    "import tweepy\n",
    "import pandas as pd \n",
    "import numpy as np \n",
    "from textblob import TextBlob as tb\n",
    "import time\n",
    "import re\n",
    "\n",
    "import matplotlib.pyplot as plt\n",
    "\n",
    "from geopy.geocoders import Nominatim\n",
    "import folium\n",
    "from folium import plugins\n",
    "from wordcloud import WordCloud, STOPWORDS"
   ]
  },
  {
   "cell_type": "markdown",
   "metadata": {},
   "source": [
    "Definição das credenciais de acesso (autenticação) na API do Twitter"
   ]
  },
  {
   "cell_type": "code",
   "execution_count": 2,
   "metadata": {},
   "outputs": [],
   "source": [
    "# Credenciais para utilização da API do Twitter\n",
    "\n",
    "consumer_key = \"\"\n",
    "consumer_secret = \"\"\n",
    "access_token = \"\"\n",
    "access_token_secret = \"\""
   ]
  },
  {
   "cell_type": "markdown",
   "metadata": {},
   "source": [
    "Autenticação na API do Twitter"
   ]
  },
  {
   "cell_type": "code",
   "execution_count": 3,
   "metadata": {},
   "outputs": [],
   "source": [
    "auth = tweepy.OAuthHandler(consumer_key, consumer_secret)\n",
    "auth.set_access_token(access_token, access_token_secret)\n",
    "api = tweepy.API(auth, wait_on_rate_limit = True, wait_on_rate_limit_notify = True, retry_count = 5)"
   ]
  },
  {
   "cell_type": "markdown",
   "metadata": {},
   "source": [
    "Coleta de dados (busca por palavra chave)"
   ]
  },
  {
   "cell_type": "code",
   "execution_count": 4,
   "metadata": {},
   "outputs": [],
   "source": [
    "# Definir listas de armazenamento\n",
    "tweets = []\n",
    "info = []\n",
    "\n",
    "keyword = ('palavrasChave')"
   ]
  },
  {
   "cell_type": "markdown",
   "metadata": {},
   "source": [
    "Exemplo básico para busca por palavra chave e recuperar os tweets em português"
   ]
  },
  {
   "cell_type": "code",
   "execution_count": 5,
   "metadata": {},
   "outputs": [],
   "source": [
    "from googletrans import Translator\n",
    "from unidecode import unidecode\n",
    "import json"
   ]
  },
  {
   "cell_type": "code",
   "execution_count": 6,
   "metadata": {},
   "outputs": [
    {
     "name": "stdout",
     "output_type": "stream",
     "text": [
      "*** Tweet em português: Um conhecido esta sendo pressionado pelo RH da empresa a tomar o tal do kit covid-19 antes de voltarem do home office.\n",
      "\n",
      "Assim como todos funcionarios da empresa.\n",
      "\n",
      "Nao da pra piorar.\n",
      "*** Tweet traduzido:\n",
      "A known is being pressed by the company HR taking such kit covid-19 before returning home from the office.\n",
      "\n",
      "As well as all employees of the company.\n",
      "\n",
      "Not for the worse.\n",
      "\n",
      "\n",
      "*** Tweet em português: Com home office, BB vai devolver 19 de 35 edificios de escritorios https://t.co/e81xHfaIu1\n",
      "*** Tweet traduzido:\n",
      "As home office, BB will return 19 of 35 office buildings https://t.co/e81xHfaIu1\n",
      "\n",
      "\n",
      "*** Tweet em português: Com home office, Banco do Brasil vai devolver 19 de 35 edificios de escritorios no pais https://t.co/Xc6T6Sw3yJ\n",
      "*** Tweet traduzido:\n",
      "As home office, Bank of Brazil will return 19 of 35 office buildings in the country https://t.co/Xc6T6Sw3yJ\n",
      "\n",
      "\n",
      "*** Tweet em português: Mulher e demitida e diz que motivo foi o barulho dos filhos pequenos nas chamadas de trabalho no home office https://t.co/K6Gd1iQyFh https://t.co/1ds316PkOq\n",
      "*** Tweet traduzido:\n",
      "Woman and fired and says that reason was the noise of small children in the work calls at home office https://t.co/K6Gd1iQyFh https://t.co/1ds316PkOq\n",
      "\n",
      "\n",
      "*** Tweet em português: Nada como ter conforto e qualidade em casa. E nada melhor que isso no seu ambiente de trabalho. O home office ja faz parte da vida de muitos santistas e a Oceano B2B oferece uma serie de produtos pra melhorar ainda mais a sua performance.[?][?]\n",
      "[?][?]\n",
      "Acesse https://t.co/e5PfzRuhM1 https://t.co/FNiWXn346B\n",
      "*** Tweet traduzido:\n",
      "Nothing like having quality and comfort at home. And nothing better than that in your work environment. The home office already is part of the lives of many Santos and B2B Ocean offers a series of products to further improve its performance. [?] [?]\n",
      "[?] [?]\n",
      "Access https://t.co/e5PfzRuhM1 https://t.co/FNiWXn346B\n",
      "\n",
      "\n"
     ]
    }
   ],
   "source": [
    "polaritiesPT = []\n",
    "\n",
    "for tweetpt in tweepy.Cursor(api.search, q = keyword, tweet_mode = 'extended', rpp = 5, result_type = \"popular\", \n",
    "                             lang = \"pt\", include_entities = True).items(5):\n",
    "    #Texto do tweet\n",
    "    textPT = unidecode(tweetpt.full_text)\n",
    "    print('*** Tweet em português: '+textPT)\n",
    "    \n",
    "    #Traduzindo para o Inglês\n",
    "    textEN = Translator().translate(textPT)\n",
    "    print('*** Tweet traduzido:')\n",
    "    print(textEN.text)\n",
    "    \n",
    "    #Calculando a polaridade do texto traduzido\n",
    "    polarityPT = tb(textEN.text).sentiment.polarity\n",
    "    \n",
    "    polaritiesPT.append(polarityPT)\n",
    "    print('\\n')    "
   ]
  },
  {
   "cell_type": "code",
   "execution_count": 7,
   "metadata": {},
   "outputs": [
    {
     "name": "stdout",
     "output_type": "stream",
     "text": [
      "[-0.2, 0.0, 0.0, -0.25, 0.275]\n"
     ]
    }
   ],
   "source": [
    "print(polaritiesPT)"
   ]
  },
  {
   "cell_type": "markdown",
   "metadata": {},
   "source": [
    "Buscar por palavra chave e recuperar os tweets em inglês"
   ]
  },
  {
   "cell_type": "code",
   "execution_count": 8,
   "metadata": {},
   "outputs": [],
   "source": [
    "for tweet in tweepy.Cursor(api.search, q = keyword, tweet_mode = 'extended',\n",
    "                           rpp = 1000, result_type = \"mixed\", lang = 'en',\n",
    "                           include_entities = True).items(1000):\n",
    "    \n",
    "    if 'retweeted_status' in dir(tweet):\n",
    "        aux = tweet.retweeted_status.full_text\n",
    "    else:\n",
    "        aux = tweet.full_text\n",
    "    \n",
    "    newtweet = aux.replace(\"\\n\", \" \")\n",
    "    \n",
    "    tweets.append(newtweet)\n",
    "    info.append(tweet)\n",
    "    \n",
    "    file = open(r\"diretorio/nomeDoArquivo.txt\", \"a\", -1, \"utf-8\")\n",
    "    file.write(newtweet+'\\n')\n",
    "    file.close()"
   ]
  },
  {
   "cell_type": "markdown",
   "metadata": {},
   "source": [
    "Para verificar a quantidade de tweets coletado use a função \"len()\""
   ]
  },
  {
   "cell_type": "code",
   "execution_count": 9,
   "metadata": {},
   "outputs": [
    {
     "name": "stdout",
     "output_type": "stream",
     "text": [
      "Total de tweets coletados: 1000.\n"
     ]
    }
   ],
   "source": [
    "print(\"Total de tweets coletados: %s.\"%(len(info)))"
   ]
  },
  {
   "cell_type": "markdown",
   "metadata": {},
   "source": [
    "Verificar a estrutura do tweet"
   ]
  },
  {
   "cell_type": "code",
   "execution_count": 10,
   "metadata": {},
   "outputs": [],
   "source": [
    "status = info[0]\n",
    "\n",
    "# Converter para string\n",
    "json_str = json.dumps(status._json)\n",
    "\n",
    "# Deserialise string para um obejto python\n",
    "parsed = json.loads(json_str)"
   ]
  },
  {
   "cell_type": "code",
   "execution_count": 11,
   "metadata": {},
   "outputs": [
    {
     "data": {
      "text/plain": [
       "{'created_at': 'Wed Jul 08 14:40:58 +0000 2020',\n",
       " 'id': 1280874522359533569,\n",
       " 'id_str': '1280874522359533569',\n",
       " 'full_text': 'Amazing, amazing figure. \\n\\nThe bill for PPE this year is now estimated at £15bn...\\n\\n.... more than the combined cost of all three great offices of state - the  Home Office, the Foreign Office and the Treasury',\n",
       " 'truncated': False,\n",
       " 'display_text_range': [0, 208],\n",
       " 'entities': {'hashtags': [], 'symbols': [], 'user_mentions': [], 'urls': []},\n",
       " 'metadata': {'result_type': 'popular', 'iso_language_code': 'en'},\n",
       " 'source': '<a href=\"https://about.twitter.com/products/tweetdeck\" rel=\"nofollow\">TweetDeck</a>',\n",
       " 'in_reply_to_status_id': None,\n",
       " 'in_reply_to_status_id_str': None,\n",
       " 'in_reply_to_user_id': None,\n",
       " 'in_reply_to_user_id_str': None,\n",
       " 'in_reply_to_screen_name': None,\n",
       " 'user': {'id': 305073570,\n",
       "  'id_str': '305073570',\n",
       "  'name': 'Chris Giles',\n",
       "  'screen_name': 'ChrisGiles_',\n",
       "  'location': '',\n",
       "  'description': 'Economics Editor, FT',\n",
       "  'url': 'https://t.co/PNlY3dM0Qv',\n",
       "  'entities': {'url': {'urls': [{'url': 'https://t.co/PNlY3dM0Qv',\n",
       "      'expanded_url': 'https://www.ft.com/comment/columnists/chris-giles',\n",
       "      'display_url': 'ft.com/comment/column…',\n",
       "      'indices': [0, 23]}]},\n",
       "   'description': {'urls': []}},\n",
       "  'protected': False,\n",
       "  'followers_count': 146910,\n",
       "  'friends_count': 1231,\n",
       "  'listed_count': 1645,\n",
       "  'created_at': 'Wed May 25 16:01:25 +0000 2011',\n",
       "  'favourites_count': 7908,\n",
       "  'utc_offset': None,\n",
       "  'time_zone': None,\n",
       "  'geo_enabled': False,\n",
       "  'verified': True,\n",
       "  'statuses_count': 24494,\n",
       "  'lang': None,\n",
       "  'contributors_enabled': False,\n",
       "  'is_translator': False,\n",
       "  'is_translation_enabled': False,\n",
       "  'profile_background_color': '000000',\n",
       "  'profile_background_image_url': 'http://abs.twimg.com/images/themes/theme1/bg.png',\n",
       "  'profile_background_image_url_https': 'https://abs.twimg.com/images/themes/theme1/bg.png',\n",
       "  'profile_background_tile': False,\n",
       "  'profile_image_url': 'http://pbs.twimg.com/profile_images/856876131190009856/fgr5FNx6_normal.jpg',\n",
       "  'profile_image_url_https': 'https://pbs.twimg.com/profile_images/856876131190009856/fgr5FNx6_normal.jpg',\n",
       "  'profile_banner_url': 'https://pbs.twimg.com/profile_banners/305073570/1478199800',\n",
       "  'profile_link_color': 'ABB8C2',\n",
       "  'profile_sidebar_border_color': '000000',\n",
       "  'profile_sidebar_fill_color': '000000',\n",
       "  'profile_text_color': '000000',\n",
       "  'profile_use_background_image': False,\n",
       "  'has_extended_profile': False,\n",
       "  'default_profile': False,\n",
       "  'default_profile_image': False,\n",
       "  'following': False,\n",
       "  'follow_request_sent': False,\n",
       "  'notifications': False,\n",
       "  'translator_type': 'none'},\n",
       " 'geo': None,\n",
       " 'coordinates': None,\n",
       " 'place': None,\n",
       " 'contributors': None,\n",
       " 'is_quote_status': False,\n",
       " 'retweet_count': 876,\n",
       " 'favorite_count': 1623,\n",
       " 'favorited': False,\n",
       " 'retweeted': False,\n",
       " 'lang': 'en'}"
      ]
     },
     "execution_count": 11,
     "metadata": {},
     "output_type": "execute_result"
    }
   ],
   "source": [
    "parsed"
   ]
  },
  {
   "cell_type": "markdown",
   "metadata": {},
   "source": [
    "Criar dataframe para transferencia de dados"
   ]
  },
  {
   "cell_type": "code",
   "execution_count": 12,
   "metadata": {},
   "outputs": [],
   "source": [
    "tweets_df = pd.DataFrame(tweets, columns={'Tweets'})\n",
    "\n",
    "tweets_df['len'] = np.array([len(tweet) for tweet in tweets])\n",
    "tweets_df['ID'] = np.array([tweet.id for tweet in info])\n",
    "tweets_df['USER'] = np.array([tweet.user.screen_name for tweet in info])\n",
    "tweets_df['userName'] = np.array([tweet.user.name for tweet in info])\n",
    "tweets_df['User Location'] = np.array([tweet.user.location for tweet in info])\n",
    "tweets_df['Language'] = np.array([tweet.user.lang for tweet in info])\n",
    "tweets_df['Date'] = np.array([tweet.created_at for tweet in info])\n",
    "tweets_df['Source'] = np.array([tweet.source for tweet in info])\n",
    "tweets_df['Likes'] = np.array([tweet.favorite_count for tweet in info])\n",
    "tweets_df['Retweets'] = np.array([tweet.retweet_count for tweet in info])\n",
    "tweets_df['Geo'] = np.array([tweet.geo for tweet in info])\n",
    "tweets_df['Coordinates'] = np.array([tweet.coordinates for tweet in info])\n",
    "tweets_df['Place'] = np.array([tweet.place for tweet in info])"
   ]
  },
  {
   "cell_type": "code",
   "execution_count": 13,
   "metadata": {},
   "outputs": [
    {
     "data": {
      "text/html": [
       "<div>\n",
       "<style scoped>\n",
       "    .dataframe tbody tr th:only-of-type {\n",
       "        vertical-align: middle;\n",
       "    }\n",
       "\n",
       "    .dataframe tbody tr th {\n",
       "        vertical-align: top;\n",
       "    }\n",
       "\n",
       "    .dataframe thead th {\n",
       "        text-align: right;\n",
       "    }\n",
       "</style>\n",
       "<table border=\"1\" class=\"dataframe\">\n",
       "  <thead>\n",
       "    <tr style=\"text-align: right;\">\n",
       "      <th></th>\n",
       "      <th>Tweets</th>\n",
       "      <th>len</th>\n",
       "      <th>ID</th>\n",
       "      <th>USER</th>\n",
       "      <th>userName</th>\n",
       "      <th>User Location</th>\n",
       "      <th>Language</th>\n",
       "      <th>Date</th>\n",
       "      <th>Source</th>\n",
       "      <th>Likes</th>\n",
       "      <th>Retweets</th>\n",
       "      <th>Geo</th>\n",
       "      <th>Coordinates</th>\n",
       "      <th>Place</th>\n",
       "    </tr>\n",
       "  </thead>\n",
       "  <tbody>\n",
       "    <tr>\n",
       "      <th>0</th>\n",
       "      <td>Amazing, amazing figure.   The bill for PPE th...</td>\n",
       "      <td>208</td>\n",
       "      <td>1280874522359533569</td>\n",
       "      <td>ChrisGiles_</td>\n",
       "      <td>Chris Giles</td>\n",
       "      <td></td>\n",
       "      <td>None</td>\n",
       "      <td>2020-07-08 14:40:58</td>\n",
       "      <td>TweetDeck</td>\n",
       "      <td>1623</td>\n",
       "      <td>876</td>\n",
       "      <td>None</td>\n",
       "      <td>None</td>\n",
       "      <td>None</td>\n",
       "    </tr>\n",
       "    <tr>\n",
       "      <th>1</th>\n",
       "      <td>How did the Government manage to spend £15bn o...</td>\n",
       "      <td>255</td>\n",
       "      <td>1280979912673955841</td>\n",
       "      <td>tnewtondunn</td>\n",
       "      <td>Tom Newton Dunn</td>\n",
       "      <td>London</td>\n",
       "      <td>None</td>\n",
       "      <td>2020-07-08 21:39:45</td>\n",
       "      <td>Twitter for iPad</td>\n",
       "      <td>572</td>\n",
       "      <td>278</td>\n",
       "      <td>None</td>\n",
       "      <td>None</td>\n",
       "      <td>None</td>\n",
       "    </tr>\n",
       "    <tr>\n",
       "      <th>2</th>\n",
       "      <td>This is just racism, pure and simple. It's har...</td>\n",
       "      <td>206</td>\n",
       "      <td>1280787464362364928</td>\n",
       "      <td>misszing</td>\n",
       "      <td>Zing Tsjeng</td>\n",
       "      <td>London, UK</td>\n",
       "      <td>None</td>\n",
       "      <td>2020-07-08 08:55:02</td>\n",
       "      <td>Twitter for Android</td>\n",
       "      <td>939</td>\n",
       "      <td>383</td>\n",
       "      <td>None</td>\n",
       "      <td>None</td>\n",
       "      <td>None</td>\n",
       "    </tr>\n",
       "  </tbody>\n",
       "</table>\n",
       "</div>"
      ],
      "text/plain": [
       "                                              Tweets  len  \\\n",
       "0  Amazing, amazing figure.   The bill for PPE th...  208   \n",
       "1  How did the Government manage to spend £15bn o...  255   \n",
       "2  This is just racism, pure and simple. It's har...  206   \n",
       "\n",
       "                    ID         USER         userName User Location Language  \\\n",
       "0  1280874522359533569  ChrisGiles_      Chris Giles                   None   \n",
       "1  1280979912673955841  tnewtondunn  Tom Newton Dunn        London     None   \n",
       "2  1280787464362364928     misszing      Zing Tsjeng    London, UK     None   \n",
       "\n",
       "                 Date               Source  Likes  Retweets   Geo Coordinates  \\\n",
       "0 2020-07-08 14:40:58            TweetDeck   1623       876  None        None   \n",
       "1 2020-07-08 21:39:45     Twitter for iPad    572       278  None        None   \n",
       "2 2020-07-08 08:55:02  Twitter for Android    939       383  None        None   \n",
       "\n",
       "  Place  \n",
       "0  None  \n",
       "1  None  \n",
       "2  None  "
      ]
     },
     "execution_count": 13,
     "metadata": {},
     "output_type": "execute_result"
    }
   ],
   "source": [
    "tweets_df.head(3)"
   ]
  },
  {
   "cell_type": "code",
   "execution_count": 14,
   "metadata": {},
   "outputs": [],
   "source": [
    "tweets_df.to_csv(r\"diretorio/nomeDoArquivo.csv\")"
   ]
  },
  {
   "cell_type": "markdown",
   "metadata": {},
   "source": [
    "### Identificar Top Tweets coletados"
   ]
  },
  {
   "cell_type": "markdown",
   "metadata": {},
   "source": [
    "Tweets com maior número de LIKES"
   ]
  },
  {
   "cell_type": "code",
   "execution_count": 15,
   "metadata": {},
   "outputs": [
    {
     "name": "stdout",
     "output_type": "stream",
     "text": [
      "O tweet com mais curtidas (likes) é: \n",
      "Amazing, amazing figure.   The bill for PPE this year is now estimated at £15bn...  .... more than the combined cost of all three great offices of state - the  Home Office, the Foreign Office and the Treasury\n",
      "Número de curtidas: 1623\n"
     ]
    }
   ],
   "source": [
    "likes_max = np.max(tweets_df['Likes'])\n",
    "\n",
    "likes = tweets_df[tweets_df.Likes == likes_max].index[0] #Pega a posição do tweet dentro do dataframe\n",
    "\n",
    "print(\"O tweet com mais curtidas (likes) é: \\n{}\".format(tweets_df['Tweets'][likes])) #Pega o texto do tweet (likes = posicao no data frame)\n",
    "print(\"Número de curtidas: {}\".format(likes_max))"
   ]
  },
  {
   "cell_type": "code",
   "execution_count": 16,
   "metadata": {},
   "outputs": [
    {
     "name": "stdout",
     "output_type": "stream",
     "text": [
      "1\n"
     ]
    }
   ],
   "source": [
    "# Quantos tweets tem o mesmo valor máximo de curtidas\n",
    "\n",
    "print(np.sum(tweets_df['Likes'] == likes_max))"
   ]
  },
  {
   "cell_type": "markdown",
   "metadata": {},
   "source": [
    "Tweets com maior número de RETWEETS"
   ]
  },
  {
   "cell_type": "code",
   "execution_count": 17,
   "metadata": {},
   "outputs": [
    {
     "name": "stdout",
     "output_type": "stream",
     "text": [
      "O tweet com mais retweet é: \n",
      "I request to our Hon.Home minister Sh. @AmitShah ji, plz take strict action against @TwitterIndia how dey can suspend any responsible person account @payal_rohatgi without reason, sir pl ban this platform like Chinese app &amp;block @Jack also,who is he in our Country #BringBackPayal https://t.co/whyDfEydZ5\n",
      "Número de curtidas: 7540\n"
     ]
    }
   ],
   "source": [
    "retweets_max = np.max(tweets_df['Retweets'])\n",
    "\n",
    "retweet = tweets_df[tweets_df.Retweets == retweets_max].index[0] \n",
    "\n",
    "print(\"O tweet com mais retweet é: \\n{}\".format(tweets_df['Tweets'][retweet])) \n",
    "print(\"Número de curtidas: {}\".format(retweets_max))"
   ]
  },
  {
   "cell_type": "code",
   "execution_count": 18,
   "metadata": {},
   "outputs": [
    {
     "name": "stdout",
     "output_type": "stream",
     "text": [
      "1\n"
     ]
    }
   ],
   "source": [
    "# Quantos tweets tem o mesmo valor máximo de curtidas\n",
    "\n",
    "print(np.sum(tweets_df['Retweets'] == retweets_max))"
   ]
  },
  {
   "cell_type": "markdown",
   "metadata": {},
   "source": [
    "### Identifica a fonte(origem) do tweet"
   ]
  },
  {
   "cell_type": "markdown",
   "metadata": {},
   "source": [
    "A fonte neste caso é o app ou dispositivo onde o usuário postou o tweet"
   ]
  },
  {
   "cell_type": "code",
   "execution_count": 19,
   "metadata": {},
   "outputs": [],
   "source": [
    "sources = []\n",
    "\n",
    "for source in tweets_df['Source']:\n",
    "    if source not in sources:\n",
    "        sources.append(source)\n",
    "\n",
    "percent = np.zeros(len(sources))\n",
    "\n",
    "for source in tweets_df['Source']:\n",
    "    for index in range(len(sources)):\n",
    "        if source == sources[index]:\n",
    "            percent[index] +=1\n",
    "            pass\n",
    "        "
   ]
  },
  {
   "cell_type": "markdown",
   "metadata": {},
   "source": [
    "##### Gráfico que exibe o número de tweets por fonte"
   ]
  },
  {
   "cell_type": "code",
   "execution_count": 20,
   "metadata": {},
   "outputs": [
    {
     "data": {
      "text/html": [
       "<div>\n",
       "<style scoped>\n",
       "    .dataframe tbody tr th:only-of-type {\n",
       "        vertical-align: middle;\n",
       "    }\n",
       "\n",
       "    .dataframe tbody tr th {\n",
       "        vertical-align: top;\n",
       "    }\n",
       "\n",
       "    .dataframe thead th {\n",
       "        text-align: right;\n",
       "    }\n",
       "</style>\n",
       "<table border=\"1\" class=\"dataframe\">\n",
       "  <thead>\n",
       "    <tr style=\"text-align: right;\">\n",
       "      <th></th>\n",
       "      <th>source</th>\n",
       "    </tr>\n",
       "  </thead>\n",
       "  <tbody>\n",
       "    <tr>\n",
       "      <th>TweetDeck</th>\n",
       "      <td>20.0</td>\n",
       "    </tr>\n",
       "    <tr>\n",
       "      <th>Twitter for iPad</th>\n",
       "      <td>49.0</td>\n",
       "    </tr>\n",
       "    <tr>\n",
       "      <th>Twitter for Android</th>\n",
       "      <td>300.0</td>\n",
       "    </tr>\n",
       "    <tr>\n",
       "      <th>Twitter Web App</th>\n",
       "      <td>274.0</td>\n",
       "    </tr>\n",
       "    <tr>\n",
       "      <th>Twitter for iPhone</th>\n",
       "      <td>284.0</td>\n",
       "    </tr>\n",
       "    <tr>\n",
       "      <th>Back At You</th>\n",
       "      <td>1.0</td>\n",
       "    </tr>\n",
       "    <tr>\n",
       "      <th>Echobox</th>\n",
       "      <td>2.0</td>\n",
       "    </tr>\n",
       "    <tr>\n",
       "      <th>IFTTT</th>\n",
       "      <td>11.0</td>\n",
       "    </tr>\n",
       "    <tr>\n",
       "      <th>Tweetbot for Mac</th>\n",
       "      <td>1.0</td>\n",
       "    </tr>\n",
       "    <tr>\n",
       "      <th>Sprout Social</th>\n",
       "      <td>1.0</td>\n",
       "    </tr>\n",
       "    <tr>\n",
       "      <th>Loomly</th>\n",
       "      <td>1.0</td>\n",
       "    </tr>\n",
       "    <tr>\n",
       "      <th>LinuxBot2.0</th>\n",
       "      <td>1.0</td>\n",
       "    </tr>\n",
       "    <tr>\n",
       "      <th>WordPress.com</th>\n",
       "      <td>2.0</td>\n",
       "    </tr>\n",
       "    <tr>\n",
       "      <th>dasauge® Stellenmarkt</th>\n",
       "      <td>1.0</td>\n",
       "    </tr>\n",
       "    <tr>\n",
       "      <th>Mailchimp</th>\n",
       "      <td>1.0</td>\n",
       "    </tr>\n",
       "    <tr>\n",
       "      <th>Heropost</th>\n",
       "      <td>1.0</td>\n",
       "    </tr>\n",
       "    <tr>\n",
       "      <th>Corona Updates EA</th>\n",
       "      <td>1.0</td>\n",
       "    </tr>\n",
       "    <tr>\n",
       "      <th>Tweetbot for iΟS</th>\n",
       "      <td>2.0</td>\n",
       "    </tr>\n",
       "    <tr>\n",
       "      <th>Zapier.com</th>\n",
       "      <td>1.0</td>\n",
       "    </tr>\n",
       "    <tr>\n",
       "      <th>Talon Android</th>\n",
       "      <td>1.0</td>\n",
       "    </tr>\n",
       "    <tr>\n",
       "      <th>Dynamic Signal</th>\n",
       "      <td>1.0</td>\n",
       "    </tr>\n",
       "    <tr>\n",
       "      <th>dlvr.it</th>\n",
       "      <td>3.0</td>\n",
       "    </tr>\n",
       "    <tr>\n",
       "      <th>McBOT</th>\n",
       "      <td>1.0</td>\n",
       "    </tr>\n",
       "    <tr>\n",
       "      <th>MyCoWork Bot</th>\n",
       "      <td>1.0</td>\n",
       "    </tr>\n",
       "    <tr>\n",
       "      <th>Foursquare</th>\n",
       "      <td>1.0</td>\n",
       "    </tr>\n",
       "    <tr>\n",
       "      <th>Hootsuite Inc.</th>\n",
       "      <td>5.0</td>\n",
       "    </tr>\n",
       "    <tr>\n",
       "      <th>Revive Social App</th>\n",
       "      <td>1.0</td>\n",
       "    </tr>\n",
       "    <tr>\n",
       "      <th>Instagram</th>\n",
       "      <td>4.0</td>\n",
       "    </tr>\n",
       "    <tr>\n",
       "      <th>Tweet Suite</th>\n",
       "      <td>1.0</td>\n",
       "    </tr>\n",
       "    <tr>\n",
       "      <th>Buffer</th>\n",
       "      <td>7.0</td>\n",
       "    </tr>\n",
       "    <tr>\n",
       "      <th>LinkedIn</th>\n",
       "      <td>3.0</td>\n",
       "    </tr>\n",
       "    <tr>\n",
       "      <th>Twitter for Mac</th>\n",
       "      <td>1.0</td>\n",
       "    </tr>\n",
       "    <tr>\n",
       "      <th>lalkas 123</th>\n",
       "      <td>1.0</td>\n",
       "    </tr>\n",
       "    <tr>\n",
       "      <th>Twitter BQuarks G #2</th>\n",
       "      <td>1.0</td>\n",
       "    </tr>\n",
       "    <tr>\n",
       "      <th>Zoho Social</th>\n",
       "      <td>1.0</td>\n",
       "    </tr>\n",
       "    <tr>\n",
       "      <th>MeetEdgar</th>\n",
       "      <td>1.0</td>\n",
       "    </tr>\n",
       "    <tr>\n",
       "      <th>networx Jobs 2</th>\n",
       "      <td>2.0</td>\n",
       "    </tr>\n",
       "    <tr>\n",
       "      <th>HubSpot</th>\n",
       "      <td>3.0</td>\n",
       "    </tr>\n",
       "    <tr>\n",
       "      <th>RasPi Office Temperature</th>\n",
       "      <td>1.0</td>\n",
       "    </tr>\n",
       "    <tr>\n",
       "      <th>SocialRabbit Plugin</th>\n",
       "      <td>1.0</td>\n",
       "    </tr>\n",
       "    <tr>\n",
       "      <th>Glasgow Watch</th>\n",
       "      <td>1.0</td>\n",
       "    </tr>\n",
       "    <tr>\n",
       "      <th>Echofon</th>\n",
       "      <td>1.0</td>\n",
       "    </tr>\n",
       "    <tr>\n",
       "      <th>Good Dog Guide Auto-Tweet</th>\n",
       "      <td>1.0</td>\n",
       "    </tr>\n",
       "    <tr>\n",
       "      <th>PostBeyond</th>\n",
       "      <td>1.0</td>\n",
       "    </tr>\n",
       "    <tr>\n",
       "      <th>Cyber Security Feed</th>\n",
       "      <td>1.0</td>\n",
       "    </tr>\n",
       "  </tbody>\n",
       "</table>\n",
       "</div>"
      ],
      "text/plain": [
       "                           source\n",
       "TweetDeck                    20.0\n",
       "Twitter for iPad             49.0\n",
       "Twitter for Android         300.0\n",
       "Twitter Web App             274.0\n",
       "Twitter for iPhone          284.0\n",
       "Back At You                   1.0\n",
       "Echobox                       2.0\n",
       "IFTTT                        11.0\n",
       "Tweetbot for Mac              1.0\n",
       "Sprout Social                 1.0\n",
       "Loomly                        1.0\n",
       "LinuxBot2.0                   1.0\n",
       "WordPress.com                 2.0\n",
       "dasauge® Stellenmarkt         1.0\n",
       "Mailchimp                     1.0\n",
       "Heropost                      1.0\n",
       "Corona Updates EA             1.0\n",
       "Tweetbot for iΟS              2.0\n",
       "Zapier.com                    1.0\n",
       "Talon Android                 1.0\n",
       "Dynamic Signal                1.0\n",
       "dlvr.it                       3.0\n",
       "McBOT                         1.0\n",
       "MyCoWork Bot                  1.0\n",
       "Foursquare                    1.0\n",
       "Hootsuite Inc.                5.0\n",
       "Revive Social App             1.0\n",
       "Instagram                     4.0\n",
       "Tweet Suite                   1.0\n",
       "Buffer                        7.0\n",
       "LinkedIn                      3.0\n",
       "Twitter for Mac               1.0\n",
       "lalkas 123                    1.0\n",
       "Twitter BQuarks G #2          1.0\n",
       "Zoho Social                   1.0\n",
       "MeetEdgar                     1.0\n",
       "networx Jobs 2                2.0\n",
       "HubSpot                       3.0\n",
       "RasPi Office Temperature      1.0\n",
       "SocialRabbit Plugin           1.0\n",
       "Glasgow Watch                 1.0\n",
       "Echofon                       1.0\n",
       "Good Dog Guide Auto-Tweet     1.0\n",
       "PostBeyond                    1.0\n",
       "Cyber Security Feed           1.0"
      ]
     },
     "execution_count": 20,
     "metadata": {},
     "output_type": "execute_result"
    }
   ],
   "source": [
    "sourceDF = pd.DataFrame({'source': percent}, index = sources)\n",
    "sourceDF"
   ]
  },
  {
   "cell_type": "code",
   "execution_count": 21,
   "metadata": {},
   "outputs": [
    {
     "data": {
      "image/png": "[encoded data removed]",
      "text/plain": [
       "<Figure size 432x288 with 1 Axes>"
      ]
     },
     "metadata": {
      "needs_background": "light"
     },
     "output_type": "display_data"
    }
   ],
   "source": [
    "sources_sorted = sourceDF.sort_values('source', ascending=True) #Ordena em forma crescente pela coluna source\n",
    "ax = sources_sorted.source.plot(kind=\"barh\", color='#A52A2A')\n",
    "ax.get_xaxis().set_major_formatter(plt.FuncFormatter(lambda x, loc: \"{:,}\".format(int(x))))"
   ]
  },
  {
   "cell_type": "code",
   "execution_count": 22,
   "metadata": {},
   "outputs": [
    {
     "data": {
      "image/png": "[encoded data removed]",
      "text/plain": [
       "<Figure size 432x288 with 1 Axes>"
      ]
     },
     "metadata": {
      "needs_background": "light"
     },
     "output_type": "display_data"
    }
   ],
   "source": [
    "sources_sorted = sourceDF.sort_values('source',ascending=False) #Ordena em forma decrescente pela coluna source\n",
    "ax = sources_sorted.source.plot(kind='barh',color='#B8860B')\n",
    "ax.get_xaxis().set_major_formatter(plt.FuncFormatter(lambda x, loc: \"{:,}\".format(int(x))))"
   ]
  },
  {
   "cell_type": "markdown",
   "metadata": {},
   "source": [
    "### Análise de polaridade:"
   ]
  },
  {
   "cell_type": "code",
   "execution_count": 23,
   "metadata": {},
   "outputs": [],
   "source": [
    "# Variável que irá armazenar as polaridades\n",
    "analysis = None"
   ]
  },
  {
   "cell_type": "code",
   "execution_count": 24,
   "metadata": {},
   "outputs": [],
   "source": [
    "# Lista vazia para armazenar as polaridades\n",
    "polarities = []"
   ]
  },
  {
   "cell_type": "code",
   "execution_count": 25,
   "metadata": {},
   "outputs": [
    {
     "data": {
      "text/html": [
       "<div>\n",
       "<style scoped>\n",
       "    .dataframe tbody tr th:only-of-type {\n",
       "        vertical-align: middle;\n",
       "    }\n",
       "\n",
       "    .dataframe tbody tr th {\n",
       "        vertical-align: top;\n",
       "    }\n",
       "\n",
       "    .dataframe thead th {\n",
       "        text-align: right;\n",
       "    }\n",
       "</style>\n",
       "<table border=\"1\" class=\"dataframe\">\n",
       "  <thead>\n",
       "    <tr style=\"text-align: right;\">\n",
       "      <th></th>\n",
       "      <th>Tweets</th>\n",
       "      <th>len</th>\n",
       "      <th>ID</th>\n",
       "      <th>USER</th>\n",
       "      <th>userName</th>\n",
       "      <th>User Location</th>\n",
       "      <th>Language</th>\n",
       "      <th>Date</th>\n",
       "      <th>Source</th>\n",
       "      <th>Likes</th>\n",
       "      <th>Retweets</th>\n",
       "      <th>Geo</th>\n",
       "      <th>Coordinates</th>\n",
       "      <th>Place</th>\n",
       "    </tr>\n",
       "  </thead>\n",
       "  <tbody>\n",
       "    <tr>\n",
       "      <th>0</th>\n",
       "      <td>Amazing, amazing figure.   The bill for PPE th...</td>\n",
       "      <td>208</td>\n",
       "      <td>1280874522359533569</td>\n",
       "      <td>ChrisGiles_</td>\n",
       "      <td>Chris Giles</td>\n",
       "      <td></td>\n",
       "      <td>None</td>\n",
       "      <td>2020-07-08 14:40:58</td>\n",
       "      <td>TweetDeck</td>\n",
       "      <td>1623</td>\n",
       "      <td>876</td>\n",
       "      <td>None</td>\n",
       "      <td>None</td>\n",
       "      <td>None</td>\n",
       "    </tr>\n",
       "  </tbody>\n",
       "</table>\n",
       "</div>"
      ],
      "text/plain": [
       "                                              Tweets  len  \\\n",
       "0  Amazing, amazing figure.   The bill for PPE th...  208   \n",
       "\n",
       "                    ID         USER     userName User Location Language  \\\n",
       "0  1280874522359533569  ChrisGiles_  Chris Giles                   None   \n",
       "\n",
       "                 Date     Source  Likes  Retweets   Geo Coordinates Place  \n",
       "0 2020-07-08 14:40:58  TweetDeck   1623       876  None        None  None  "
      ]
     },
     "execution_count": 25,
     "metadata": {},
     "output_type": "execute_result"
    }
   ],
   "source": [
    "tweets_df.head(1)"
   ]
  },
  {
   "cell_type": "code",
   "execution_count": 26,
   "metadata": {},
   "outputs": [],
   "source": [
    "for tweet in tweets_df['Tweets']:\n",
    "    analysis = tb(tweet)\n",
    "    \n",
    "    polarity = analysis.sentiment.polarity # Analisa a polaridade\n",
    "    \n",
    "    polarities.append(polarity)"
   ]
  },
  {
   "cell_type": "code",
   "execution_count": 27,
   "metadata": {},
   "outputs": [
    {
     "data": {
      "text/html": [
       "<div>\n",
       "<style scoped>\n",
       "    .dataframe tbody tr th:only-of-type {\n",
       "        vertical-align: middle;\n",
       "    }\n",
       "\n",
       "    .dataframe tbody tr th {\n",
       "        vertical-align: top;\n",
       "    }\n",
       "\n",
       "    .dataframe thead th {\n",
       "        text-align: right;\n",
       "    }\n",
       "</style>\n",
       "<table border=\"1\" class=\"dataframe\">\n",
       "  <thead>\n",
       "    <tr style=\"text-align: right;\">\n",
       "      <th></th>\n",
       "      <th>Tweets</th>\n",
       "      <th>len</th>\n",
       "      <th>ID</th>\n",
       "      <th>USER</th>\n",
       "      <th>userName</th>\n",
       "      <th>User Location</th>\n",
       "      <th>Language</th>\n",
       "      <th>Date</th>\n",
       "      <th>Source</th>\n",
       "      <th>Likes</th>\n",
       "      <th>Retweets</th>\n",
       "      <th>Geo</th>\n",
       "      <th>Coordinates</th>\n",
       "      <th>Place</th>\n",
       "    </tr>\n",
       "  </thead>\n",
       "  <tbody>\n",
       "    <tr>\n",
       "      <th>0</th>\n",
       "      <td>Amazing, amazing figure.   The bill for PPE th...</td>\n",
       "      <td>208</td>\n",
       "      <td>1280874522359533569</td>\n",
       "      <td>ChrisGiles_</td>\n",
       "      <td>Chris Giles</td>\n",
       "      <td></td>\n",
       "      <td>None</td>\n",
       "      <td>2020-07-08 14:40:58</td>\n",
       "      <td>TweetDeck</td>\n",
       "      <td>1623</td>\n",
       "      <td>876</td>\n",
       "      <td>None</td>\n",
       "      <td>None</td>\n",
       "      <td>None</td>\n",
       "    </tr>\n",
       "    <tr>\n",
       "      <th>1</th>\n",
       "      <td>How did the Government manage to spend £15bn o...</td>\n",
       "      <td>255</td>\n",
       "      <td>1280979912673955841</td>\n",
       "      <td>tnewtondunn</td>\n",
       "      <td>Tom Newton Dunn</td>\n",
       "      <td>London</td>\n",
       "      <td>None</td>\n",
       "      <td>2020-07-08 21:39:45</td>\n",
       "      <td>Twitter for iPad</td>\n",
       "      <td>572</td>\n",
       "      <td>278</td>\n",
       "      <td>None</td>\n",
       "      <td>None</td>\n",
       "      <td>None</td>\n",
       "    </tr>\n",
       "    <tr>\n",
       "      <th>2</th>\n",
       "      <td>This is just racism, pure and simple. It's har...</td>\n",
       "      <td>206</td>\n",
       "      <td>1280787464362364928</td>\n",
       "      <td>misszing</td>\n",
       "      <td>Zing Tsjeng</td>\n",
       "      <td>London, UK</td>\n",
       "      <td>None</td>\n",
       "      <td>2020-07-08 08:55:02</td>\n",
       "      <td>Twitter for Android</td>\n",
       "      <td>939</td>\n",
       "      <td>383</td>\n",
       "      <td>None</td>\n",
       "      <td>None</td>\n",
       "      <td>None</td>\n",
       "    </tr>\n",
       "  </tbody>\n",
       "</table>\n",
       "</div>"
      ],
      "text/plain": [
       "                                              Tweets  len  \\\n",
       "0  Amazing, amazing figure.   The bill for PPE th...  208   \n",
       "1  How did the Government manage to spend £15bn o...  255   \n",
       "2  This is just racism, pure and simple. It's har...  206   \n",
       "\n",
       "                    ID         USER         userName User Location Language  \\\n",
       "0  1280874522359533569  ChrisGiles_      Chris Giles                   None   \n",
       "1  1280979912673955841  tnewtondunn  Tom Newton Dunn        London     None   \n",
       "2  1280787464362364928     misszing      Zing Tsjeng    London, UK     None   \n",
       "\n",
       "                 Date               Source  Likes  Retweets   Geo Coordinates  \\\n",
       "0 2020-07-08 14:40:58            TweetDeck   1623       876  None        None   \n",
       "1 2020-07-08 21:39:45     Twitter for iPad    572       278  None        None   \n",
       "2 2020-07-08 08:55:02  Twitter for Android    939       383  None        None   \n",
       "\n",
       "  Place  \n",
       "0  None  \n",
       "1  None  \n",
       "2  None  "
      ]
     },
     "execution_count": 27,
     "metadata": {},
     "output_type": "execute_result"
    }
   ],
   "source": [
    "tweets_df.head(3)"
   ]
  },
  {
   "cell_type": "code",
   "execution_count": 28,
   "metadata": {},
   "outputs": [
    {
     "name": "stdout",
     "output_type": "stream",
     "text": [
      "Vetor de polaridades:  [0.475, 0.2672727272727273, -0.11547619047619048, 0.1, 0.2, -0.078125, 0.0, 0.0, 0.1787878787878788, 0.08055555555555555, 0.0, 0.33125, 0.032424242424242425, 0.0, 0.5, 0.0, 0.0, -0.04583333333333334, 0.8, 0.15333333333333332, 0.0, -0.04583333333333334, 0.0, -0.05357142857142857, -0.04583333333333334, -0.13055555555555554, -0.1, 0.18, -0.04583333333333334, 0.0, -0.06666666666666667, -0.04583333333333334, 0.0, -0.04583333333333334, 0.125, 0.0, -0.04583333333333334, 0.0, 0.15, 0.0, 0.18, 0.0, -0.1, 0.0, -0.04583333333333334, 0.18, 0.06666666666666667, -0.04583333333333334, 0.0, 0.0, 0.06666666666666665, 0.06666666666666667, -0.04583333333333334, -0.04583333333333334, 0.0, 0.18055555555555558, -0.04583333333333334, 0.18, 0.0, 0.18, -0.04583333333333334, 0.0, -0.08333333333333333, 0.0, -0.04583333333333334, 0.0, 0.18, -0.05, 0.0, 0.0, 0.25999999999999995, -0.15625, 0.0, 0.315625, 0.4, -0.04583333333333334, -0.42000000000000004, 0.0, -0.1, 0.0, -0.04583333333333334, -0.04583333333333334, -0.04583333333333334, 0.2, 0.0, 0.0, -0.04583333333333334, 0.5, 0.06666666666666667, -0.04583333333333334, -0.3125, 0.0, -0.04583333333333334, 0.18, 0.08, -0.05, 0.0, -0.04583333333333334, -0.15555555555555559, 0.8, -0.04583333333333334, 0.0, -0.016666666666666663, -0.04583333333333334, 0.25, -0.15625, 0.0, -0.04583333333333334, 0.0, -0.04583333333333334, -0.04583333333333334, 0.0, 0.06666666666666667, 0.30000000000000004, 0.0, -0.1, -0.04583333333333334, -0.04583333333333334, 0.0, -0.1, -0.04583333333333334, 0.0, 0.0, 0.0, 0.0, 0.0, 0.0, -0.04583333333333334, -0.04583333333333334, -0.04583333333333334, 0.26666666666666666, 0.15, -0.04583333333333334, 0.0, -0.2777777777777778, -0.04583333333333334, 0.0, 0.0, -0.04583333333333334, 0.0, 0.09166666666666667, 0.13636363636363635, -0.19999999999999998, 0.0, 0.315625, -0.04583333333333334, -0.04583333333333334, -0.04583333333333334, 0.0, 0.6, 0.5, -0.04583333333333334, 0.06666666666666667, -0.10555555555555556, 0.0, 0.10000000000000002, 0.0, -0.04583333333333334, 0.0, 1.0, 0.0, 0.18, 1.0, -0.04583333333333334, -0.04583333333333334, 0.0, 0.18, -0.04583333333333334, -0.13055555555555554, 0.18, 0.0, -0.04583333333333334, 0.0, -0.04583333333333334, 0.018181818181818174, -0.04583333333333334, 0.1, -0.04583333333333334, -0.1, -0.04583333333333334, 0.18, -0.04583333333333334, -0.04583333333333334, -0.04583333333333334, 0.0, 0.18, 0.06818181818181818, 0.18, 0.35, 0.0, 0.13636363636363635, 0.18, -0.04583333333333334, 0.15, 0.5, 0.0, 0.18, 0.18, 0.0, 0.18, 0.22, -0.04583333333333334, -0.04583333333333334, 0.18, 0.18, 0.18, 0.32, 1.0, -0.28888888888888886, 0.0, 0.16666666666666666, 0.18, 0.0, 0.21666666666666667, -0.18958333333333333, 0.0, 0.0, 0.0, -0.04583333333333334, 0.1, 0.03333333333333333, 0.15, -0.04583333333333334, -0.04583333333333334, 0.18, 0.0, -0.04583333333333334, 0.4, -0.04583333333333334, -0.1, 0.18, -0.04583333333333334, -0.04583333333333334, 0.1, 0.18, -0.04583333333333334, -0.04583333333333334, -0.13055555555555554, 0.06666666666666667, -0.04583333333333334, -0.04583333333333334, 0.0, -0.04583333333333334, 0.19568452380952378, 0.0, -0.04583333333333334, -0.04583333333333334, 0.7, 0.10000000000000002, 0.0, 0.18, -0.04583333333333334, -0.04583333333333334, 0.0, -0.04583333333333334, 0.19999999999999998, 0.7, 0.15000000000000002, -0.04583333333333334, -0.04583333333333334, -0.04583333333333334, 0.0, -0.03333333333333333, 0.0, 0.03866666666666667, 0.03333333333333333, 0.0, 0.08499999999999999, -0.04583333333333334, 0.0, -0.04583333333333334, 0.1, 0.315625, 0.06666666666666665, 0.0, -0.13055555555555554, 0.15, 0.0, 0.0, 0.0, 0.0, 0.0, 0.018181818181818174, 0.0, 0.15, 0.08333333333333333, -0.04583333333333334, 0.0, -0.04583333333333334, 0.26666666666666666, 0.0, 0.06666666666666667, 0.0, 0.0, -0.06666666666666665, 1.0, 0.25, 0.25, 0.06666666666666665, 0.5, 0.25, 0.10000000000000002, 0.0, 0.0, 0.35714285714285715, 0.13636363636363635, 0.45, 0.0, -0.1, 0.0, 0.4666666666666666, 0.06666666666666665, -0.7, 0.0, 0.5, 0.0, 0.0, 0.0, 0.0, -0.04583333333333334, -0.04583333333333334, 0.0, -0.04583333333333334, 0.0, 0.15, 0.13333333333333333, -0.075, 0.018181818181818174, -0.5, 0.0, -0.04583333333333334, 0.16666666666666666, 0.06666666666666665, -0.13055555555555554, 0.35714285714285715, 0.018181818181818174, -0.0875, 0.6, -0.08333333333333333, -0.04583333333333334, 0.0, 0.25, 0.0, 0.0, 0.25, 0.0, 0.2, 0.0, 0.375, 0.15, 0.275, 0.018181818181818174, -0.13055555555555554, 0.06666666666666665, 0.0, 0.14444444444444446, 0.5475, 0.0, 0.018181818181818174, 0.0, 0.0, -0.1708333333333333, -0.0775, 0.018181818181818174, 0.0, 0.5333333333333333, 0.06666666666666667, -0.14285714285714285, 0.018181818181818174, 0.13636363636363635, 0.125, 0.14444444444444446, -0.04583333333333334, -0.13055555555555554, 0.0, -0.0777777777777778, -0.16666666666666666, 0.0, 0.0, 0.0, -0.012499999999999997, 0.0, 0.4777777777777777, 0.018181818181818174, -0.13055555555555554, 0.0, 0.025, -0.04583333333333334, 0.018181818181818174, 0.018181818181818174, 0.6, 0.0, -0.1, -0.05555555555555555, 0.3333333333333333, 0.0, 0.0, -0.25, -0.13055555555555554, 0.125, 0.0, 0.0, 0.4777777777777777, -0.13055555555555554, 0.0, 0.1375, -0.04583333333333334, 0.13333333333333333, -0.02424242424242426, 0.0, 0.2857142857142857, 0.018181818181818174, 0.103125, 0.4666666666666666, -0.13055555555555554, 0.5, 0.0, -0.14285714285714288, -0.04583333333333334, 0.0, -0.13055555555555554, 0.25, 0.0, 0.45, -0.04583333333333334, -0.08333333333333333, -0.04583333333333334, -0.13055555555555554, -0.04583333333333334, 0.0, 0.075, -0.13055555555555554, 0.25, 0.10000000000000002, 0.6499999999999999, 0.0, 0.0, -0.19999999999999998, 0.43333333333333335, 0.0, 0.0, 0.03333333333333333, 0.11111111111111112, 0.25, -0.033333333333333326, 0.018181818181818174, 0.5, -0.04583333333333334, -0.07777777777777779, 0.0, 0.10000000000000002, 0.0, -0.04583333333333334, 0.4, 0.315625, 0.0, 0.19999999999999998, -0.13055555555555554, 0.4, -0.04583333333333334, 0.016666666666666666, 0.018181818181818174, -0.04583333333333334, 0.275, 0.21212121212121213, 0.10000000000000002, 0.20656565656565654, -0.1, 0.0, -0.225, -0.05357142857142857, 0.0, 0.15, 0.0, 1.0, 0.35909090909090907, 0.1, 0.3, -0.13055555555555554, -0.04583333333333334, 0.1305059523809524, 0.0625, -0.13055555555555554, 0.0, -0.04583333333333334, 0.3, -0.22698412698412698, 0.0, 0.2, 0.0, -0.1, 0.018181818181818174, 0.0, 0.15, 0.0, -0.04583333333333334, 0.018181818181818174, 0.0, 0.018181818181818174, 0.018181818181818174, -0.04583333333333334, 0.0, 0.005454545454545451, -0.16666666666666666, -0.13055555555555554, 0.018181818181818174, 0.0, -0.5, 0.0, 0.0, -0.13055555555555554, 0.21212121212121213, -0.04583333333333334, -0.45, -0.04583333333333334, -0.19999999999999998, 0.0, 0.15, 0.0, -0.19166666666666668, -0.10069444444444445, 0.25, 0.25, 0.06666666666666665, 0.25, 0.0, 0.008333333333333331, 0.018181818181818174, 0.018181818181818174, -0.04583333333333334, -0.13055555555555554, 0.0, 0.018181818181818174, 0.018181818181818174, 0.0, 0.0, 0.0, 0.0, 0.0, -0.13055555555555554, 0.0, 0.0, 0.5, 0.0, 0.3, 0.15, 0.125, -0.04583333333333334, 0.0, 0.0, 0.018181818181818174, -0.13055555555555554, -0.1708333333333333, 0.0, -0.033333333333333354, 0.13636363636363635, 0.018181818181818174, 0.15999999999999998, 0.018181818181818174, 0.375, -0.04583333333333334, -0.04583333333333334, -0.04583333333333334, 0.018181818181818174, 0.018181818181818174, 0.0, 0.25, 0.075, 0.0, 0.018181818181818174, 0.018181818181818174, 0.0, 0.018181818181818174, 0.5, 0.5, -0.39999999999999997, 0.0, -0.04583333333333334, 0.13636363636363635, 0.0, 0.25, 0.25, -0.05, -0.10714285714285714, 0.06666666666666665, 0.0, -0.04583333333333334, 0.6, -0.8, 0.0, 0.0, -0.04583333333333334, 0.0, 0.0, 0.25, 0.0, 0.5, 0.0, -0.13055555555555554, 0.1814814814814815, -0.04583333333333334, 0.18333333333333332, -0.1708333333333333, 0.0, 0.0, 0.0, 0.12187500000000001, 0.25, 0.45, 0.0, 0.43125, 0.2, 0.5, 0.06666666666666665, 0.0, 0.3666666666666667, 0.16666666666666666, 0.0, 0.26944444444444443, 0.0, 0.12708333333333335, 0.35, -0.08333333333333334, 0.0, -0.04583333333333334, 0.8, 0.25, 0.0, 0.2041666666666667, 0.0, 0.0, 0.25, 0.0, 0.0, -0.25, 0.0, 0.06666666666666665, 0.13749999999999998, 0.033333333333333326, -0.05555555555555555, -0.04583333333333334, 0.40625, 0.6, -0.04583333333333334, 0.15, -0.19166666666666668, -0.04583333333333334, 0.24444444444444446, 0.125, 0.0, -0.04583333333333334, 0.0, -0.1638888888888889, 0.26, -0.04583333333333334, -0.04583333333333334, 0.29393939393939394, 0.0, 0.17857142857142858, 0.25, 0.15, 0.0, -0.09999999999999999, -0.04583333333333334, 0.0, 0.25, 0.0, 0.5466666666666666, 0.25, 0.15, 0.041666666666666664, 0.275, 0.0, 0.0, 0.005454545454545451, 0.25, 0.0, -0.04583333333333334, 0.06666666666666665, 0.2, 0.0, 0.0, 0.0, 0.6, -0.08333333333333333, -0.002777777777777782, -0.0555555555555556, 0.0, 0.0, 0.04, -0.027777777777777773, 0.25, 0.0, 0.25, 0.5333333333333333, 0.75, 0.25, -0.04583333333333334, 0.06818181818181818, 0.0, 0.0, -0.04583333333333334, 0.10000000000000002, 0.0, 0.44772727272727275, 0.0, -0.04583333333333334, 0.0, 0.25, 0.25, 0.25, 0.06666666666666665, 0.0, 0.06666666666666665, -0.22499999999999998, 0.43333333333333335, 0.15, -0.1, -0.1, 0.25, 0.0, 0.25, 0.1, 0.0, 0.6, 0.0, 0.0, 0.029374999999999995, 0.0, -0.04583333333333334, 0.06666666666666665, -0.16666666666666666, -0.04583333333333334, -0.1875, 0.13690476190476192, 0.0, 0.5, -0.0555555555555556, 0.0, 0.12454545454545454, 0.0, 0.0, 0.61875, 0.0, 0.3333333333333333, 0.4666666666666666, 0.0, 0.25833333333333336, 0.20656565656565654, -1.0, 0.0, 0.0, -0.04583333333333334, -0.1, 0.8, 0.35714285714285715, 0.06666666666666665, -0.1220703125, 0.0, 0.0, 0.43333333333333335, -0.0555555555555556, 0.0, 0.0, -0.4083333333333333, -0.04583333333333334, 0.4121212121212121, 0.2, 0.30000000000000004, 0.0, 0.25, 0.0, 0.2833333333333334, -0.19999999999999998, 0.24242424242424243, 0.0, 0.06666666666666665, 0.30000000000000004, -0.04583333333333334, 0.06666666666666665, -0.04583333333333334, -0.0555555555555556, 0.24242424242424243, -0.19999999999999998, -0.04583333333333334, -0.04583333333333334, 0.06666666666666665, 0.0, -0.04583333333333334, 0.175, -0.4083333333333333, 0.0, 0.15, -0.04583333333333334, -0.04583333333333334, -0.04583333333333334, 0.0, 0.7, -0.04583333333333334, -0.10833333333333334, 0.0, -0.04583333333333334, -0.16666666666666666, 0.0, -0.007142857142857145, 0.0, 0.0, -0.19999999999999998, -0.04583333333333334, -0.16666666666666666, 0.0, -0.04583333333333334, 0.3125, -0.04583333333333334, 0.1, -0.4083333333333333, -0.1708333333333333, 0.0, -0.1708333333333333, 0.0, 0.0, -0.06666666666666667, 0.0, -0.075, -0.4083333333333333, -0.04583333333333334, 0.0, 0.0, 0.0, 0.0, 0.16999999999999998, 0.34, -0.04583333333333334, 0.0, 0.0, 0.0, -0.28888888888888886, -0.12142857142857144, -0.04583333333333334, -0.08333333333333333, -0.4083333333333333, 0.2225, -0.25, -0.19999999999999998, 0.0, 0.06818181818181818, -0.04583333333333334, 0.06666666666666667, -0.06269841269841271, -0.09583333333333333, 0.0, -0.19999999999999998, -0.26666666666666666, -0.04583333333333334, 0.018666666666666654, -0.04583333333333334, 0.0, 0.25, 0.75, 0.16666666666666669, 0.5, 0.06818181818181818, -0.04583333333333334, 0.125, 0.0, 0.42500000000000004, 0.0, 0.06818181818181818, 0.2857142857142857, 0.3, 0.0, 0.0, -0.04583333333333334, 0.2857142857142857, 0.0, 0.2, 0.4, 0.20656565656565654, 0.30000000000000004, -0.12611111111111115, -0.04583333333333334, 0.06818181818181818, -0.09999999999999999, 0.0, 0.0, 0.0, -0.31666666666666665, -0.1708333333333333, 0.0, 0.0, 0.0, -0.13333333333333333, -0.04583333333333334, 0.0, -0.1708333333333333, 0.0, -0.04583333333333334, -0.05, -0.15, -0.11293650793650793, -0.05, -0.09999999999999999, 0.0, 0.06666666666666665, 0.0, 0.06666666666666665, -0.1708333333333333, 0.0, 0.4, 0.0, 0.0, 0.5475, -0.04583333333333334, 0.2857142857142857, 0.0, -0.04583333333333334, -0.25, 0.10000000000000002, 0.0, 0.0, 0.2, -0.31666666666666665, 0.6, 0.11111111111111112, -0.04583333333333334, 0.0, 0.06666666666666665, -0.04583333333333334, 0.4666666666666667, 0.0, -0.05833333333333335, 0.0, 0.4, -0.13125000000000003, -0.04583333333333334, -0.028124999999999997, -0.16666666666666666, -0.05555555555555555, 0.15, 0.5, 0.0, 0.0, 0.15, 0.0, 0.0, 0.0, 0.0, -0.04583333333333334, -0.04583333333333334, 0.06666666666666667, -0.04583333333333334, 0.0, -0.8, 0.0619047619047619, 0.0, 0.0, 0.05625000000000001, 0.0, 0.0, 0.0, 0.0, 0.06666666666666665, -0.04583333333333334, 0.18333333333333332, 0.0, -0.029166666666666667, -0.8, -0.08333333333333333, 0.35714285714285715, 0.10285714285714287, 0.07777777777777778, 0.0, 0.0, -0.04583333333333334, 0.4875, 0.0, 0.0, -0.04583333333333334, 0.0, -0.04583333333333334, 0.0, 0.0, 0.11111111111111112, 0.9, -0.04583333333333334, 0.875, 0.0, 0.315625, 0.031249999999999993, -0.04583333333333334, 0.0, -0.40625, -0.05, 0.06666666666666665, 0.06666666666666665, -0.8, 0.0, -0.3, -0.03500000000000001, 0.06666666666666665]\n"
     ]
    }
   ],
   "source": [
    "print(\"Vetor de polaridades: \", polarities)"
   ]
  },
  {
   "cell_type": "markdown",
   "metadata": {},
   "source": [
    "### Análise de Sentimentos:"
   ]
  },
  {
   "cell_type": "code",
   "execution_count": 29,
   "metadata": {},
   "outputs": [
    {
     "name": "stdout",
     "output_type": "stream",
     "text": [
      "Para a(s) palavra(s):\"home office OR homeoffice\"\n",
      "A MÉDIA DE SENTIMENTO É: 0.052999374372444674\n"
     ]
    }
   ],
   "source": [
    "print('Para a(s) palavra(s):\"%s\"' % keyword)\n",
    "print('A MÉDIA DE SENTIMENTO É: ' + str(np.mean(polarities)))"
   ]
  },
  {
   "cell_type": "code",
   "execution_count": 30,
   "metadata": {},
   "outputs": [],
   "source": [
    "positive = 0\n",
    "negative = 0\n",
    "neutral = 0\n",
    "\n",
    "for polarity in polarities:\n",
    "    if polarity > 0:\n",
    "        positive = positive+1\n",
    "    elif polarity < 0:\n",
    "        negative = negative+1\n",
    "    else:\n",
    "        neutral = neutral+1  "
   ]
  },
  {
   "cell_type": "code",
   "execution_count": 31,
   "metadata": {},
   "outputs": [
    {
     "name": "stdout",
     "output_type": "stream",
     "text": [
      "Tweets Positivos: 377\n",
      "Tweets Negativos: 327\n",
      "Tweets Neutros: 296\n"
     ]
    }
   ],
   "source": [
    "print(\"Tweets Positivos: %s\" % positive)\n",
    "print(\"Tweets Negativos: %s\" % negative)\n",
    "print(\"Tweets Neutros: %s\" % neutral)"
   ]
  },
  {
   "cell_type": "markdown",
   "metadata": {},
   "source": [
    "Calcula percentual"
   ]
  },
  {
   "cell_type": "code",
   "execution_count": 32,
   "metadata": {},
   "outputs": [],
   "source": [
    "pos_pct=positive*100/len(polarities)\n",
    "neg_pct=negative*100/len(polarities)\n",
    "neu_pct=neutral*100/len(polarities)"
   ]
  },
  {
   "cell_type": "code",
   "execution_count": 33,
   "metadata": {},
   "outputs": [
    {
     "data": {
      "text/html": [
       "<div>\n",
       "<style scoped>\n",
       "    .dataframe tbody tr th:only-of-type {\n",
       "        vertical-align: middle;\n",
       "    }\n",
       "\n",
       "    .dataframe tbody tr th {\n",
       "        vertical-align: top;\n",
       "    }\n",
       "\n",
       "    .dataframe thead th {\n",
       "        text-align: right;\n",
       "    }\n",
       "</style>\n",
       "<table border=\"1\" class=\"dataframe\">\n",
       "  <thead>\n",
       "    <tr style=\"text-align: right;\">\n",
       "      <th></th>\n",
       "      <th>Percent</th>\n",
       "    </tr>\n",
       "  </thead>\n",
       "  <tbody>\n",
       "    <tr>\n",
       "      <th>Positivos</th>\n",
       "      <td>37.7</td>\n",
       "    </tr>\n",
       "    <tr>\n",
       "      <th>Negativos</th>\n",
       "      <td>32.7</td>\n",
       "    </tr>\n",
       "    <tr>\n",
       "      <th>Neutros</th>\n",
       "      <td>29.6</td>\n",
       "    </tr>\n",
       "  </tbody>\n",
       "</table>\n",
       "</div>"
      ],
      "text/plain": [
       "           Percent\n",
       "Positivos     37.7\n",
       "Negativos     32.7\n",
       "Neutros       29.6"
      ]
     },
     "execution_count": 33,
     "metadata": {},
     "output_type": "execute_result"
    }
   ],
   "source": [
    "sentiments = ['Positivos', 'Negativos','Neutros']\n",
    "percents = [pos_pct, neg_pct, neu_pct]\n",
    "\n",
    "analysis_percent_df = pd.DataFrame({'Percent': percents}, index = sentiments)\n",
    "analysis_percent_df\n"
   ]
  },
  {
   "cell_type": "code",
   "execution_count": 34,
   "metadata": {},
   "outputs": [
    {
     "data": {
      "text/plain": [
       "<matplotlib.axes._subplots.AxesSubplot at 0x18473a184a8>"
      ]
     },
     "execution_count": 34,
     "metadata": {},
     "output_type": "execute_result"
    },
    {
     "data": {
      "image/png": "[encoded data removed]",
      "text/plain": [
       "<Figure size 360x360 with 1 Axes>"
      ]
     },
     "metadata": {},
     "output_type": "display_data"
    }
   ],
   "source": [
    "pie_chart = pd.Series(percents, index=sentiments, name=\"Sentimentos\")\n",
    "pie_chart.plot.pie(fontsize=12, autopct='%.2f', figsize=(5, 5), title=\"Análise de Sentimentos Tweets\")"
   ]
  },
  {
   "cell_type": "code",
   "execution_count": 35,
   "metadata": {},
   "outputs": [
    {
     "data": {
      "image/png": "[encoded data removed]",
      "text/plain": [
       "<Figure size 504x504 with 1 Axes>"
      ]
     },
     "metadata": {},
     "output_type": "display_data"
    }
   ],
   "source": [
    "#ax1.pie(sizes, explode=explode, labels=labels, autopct='%1.1f%%',        shadow=True, startangle=90)\n",
    "explode = (0.1, 0, 0) #Separa o primeiro\n",
    "\n",
    "pie_chart = pd.Series(percents, index=sentiments,name='')\n",
    "pie_chart.plot.pie(fontsize=12, explode=explode, autopct='%.2f%%', shadow=True, figsize=(7, 7),title=\"Análise de Sentimentos tweets\");"
   ]
  },
  {
   "cell_type": "markdown",
   "metadata": {},
   "source": [
    "### Mapa de calor dos tweets"
   ]
  },
  {
   "cell_type": "code",
   "execution_count": null,
   "metadata": {},
   "outputs": [],
   "source": [
    "geolocator = Nominatim(user_agent = \"TweeterSentiments\")\n",
    "\n",
    "latitude = []\n",
    "longitude = []\n",
    "\n",
    "for user_location in tweets_df['User Location']:\n",
    "    try:\n",
    "        location = geolocator.geocode(user_location)\n",
    "        latitude.append(location.latitude)\n",
    "        longitude.append(location.longitude)\n",
    "    except:\n",
    "        continue"
   ]
  },
  {
   "cell_type": "code",
   "execution_count": null,
   "metadata": {},
   "outputs": [],
   "source": [
    "coordenadas = np.column_stack((latitude, longitude))"
   ]
  },
  {
   "cell_type": "code",
   "execution_count": null,
   "metadata": {},
   "outputs": [],
   "source": [
    "mapa = folium.Map(zoom_start=3.)\n",
    "mapa.add_child(plugins.HeatMap(coordenadas))\n",
    "mapa.save('homeoffice.html')\n",
    "mapa"
   ]
  },
  {
   "cell_type": "markdown",
   "metadata": {},
   "source": [
    "### Nuvem de palavras"
   ]
  },
  {
   "cell_type": "code",
   "execution_count": null,
   "metadata": {},
   "outputs": [],
   "source": [
    "words = ' '.join(tweets_df['Tweets'])\n",
    "\n",
    "words_clean = \" \".join([word for word in words.split()\n",
    "                       if 'https' not in word\n",
    "                           and not word.startswith('@')\n",
    "                           and word != 'RT'\n",
    "                       ])"
   ]
  },
  {
   "cell_type": "markdown",
   "metadata": {},
   "source": [
    "**OBSERVAÇÃO:**\n",
    " Antes de importar o pacote imread faça a intalação do mesmo."
   ]
  },
  {
   "cell_type": "code",
   "execution_count": null,
   "metadata": {},
   "outputs": [],
   "source": [
    "import warnings\n",
    "\n",
    "warnings.simplefilter('ignore')\n",
    "\n",
    "wc = WordCloud(min_font_size = 10,\n",
    "               max_font_size = 300,\n",
    "               background_color = 'white',\n",
    "               mode=\"RGB\",\n",
    "               width = 2000,\n",
    "               height = 1000,\n",
    "               normalize_plurals = True).generate(words_clean)"
   ]
  },
  {
   "cell_type": "code",
   "execution_count": null,
   "metadata": {},
   "outputs": [],
   "source": [
    "plt.imshow(wc, interpolation=\"bilinear\")\n",
    "plt.axis(\"off\")\n",
    "plt.savefig('homeoffice_cloud.png', dpi=300)\n",
    "plt.show()"
   ]
  },
  {
   "cell_type": "markdown",
   "metadata": {},
   "source": [
    "#####  Para texto em português, use o exemplo abaixo:"
   ]
  },
  {
   "cell_type": "code",
   "execution_count": null,
   "metadata": {},
   "outputs": [],
   "source": [
    "stopwords = set(STOPWORDS)\n",
    "\n",
    "new_words = []\n",
    "\n",
    "with open(\"stopwords_pt.txt\") as f:\n",
    "    [new_words.append(word) for line in f \n",
    "                             for word in line.split()]"
   ]
  },
  {
   "cell_type": "code",
   "execution_count": null,
   "metadata": {},
   "outputs": [],
   "source": [
    "new_stopwords = stopwords.union(new_words)\n",
    "\n",
    "words = ' '.join(tweets_df['Tweets'])\n",
    "\n",
    "words_clean = \" \".join([word for word in words.split()\n",
    "                            if 'https' not in word\n",
    "                                and not word.startswith('@')\n",
    "                                and word != 'RT'\n",
    "                            ])"
   ]
  },
  {
   "cell_type": "code",
   "execution_count": null,
   "metadata": {},
   "outputs": [],
   "source": [
    "warnings.simplefilter('ignore')\n",
    "\n",
    "wc = WordCloud()\n",
    "\n",
    "wc = WordCloud(min_font_size=10, \n",
    "               max_font_size=300, \n",
    "               background_color='white', \n",
    "               mode=\"RGB\",\n",
    "               stopwords=new_stopwords,\n",
    "               width=2000, \n",
    "               height=1000,\n",
    "               normalize_plurals= True).generate(words_clean)"
   ]
  },
  {
   "cell_type": "code",
   "execution_count": null,
   "metadata": {},
   "outputs": [],
   "source": [
    "plt.imshow(wc, interpolation=\"bilinear\")\n",
    "plt.axis(\"off\")\n",
    "plt.savefig('homeoffice_clound_pt.png', dpi=300)\n",
    "plt.show()"
   ]
  },
  {
   "cell_type": "markdown",
   "metadata": {},
   "source": [
    "### Análise temporal dos tweets"
   ]
  },
  {
   "cell_type": "code",
   "execution_count": null,
   "metadata": {},
   "outputs": [],
   "source": [
    "# Tweets postados por dia\n",
    "data = tweets_df"
   ]
  },
  {
   "cell_type": "code",
   "execution_count": null,
   "metadata": {},
   "outputs": [],
   "source": [
    "print(data['Date'][0])"
   ]
  },
  {
   "cell_type": "code",
   "execution_count": null,
   "metadata": {},
   "outputs": [],
   "source": [
    "from datetime import datetime"
   ]
  },
  {
   "cell_type": "code",
   "execution_count": null,
   "metadata": {},
   "outputs": [],
   "source": [
    "data['Date'] = pd.to_datetime(data['Date']).apply(lambda x: x.date())\n",
    "\n",
    "print(data['Date'][0])"
   ]
  },
  {
   "cell_type": "code",
   "execution_count": null,
   "metadata": {},
   "outputs": [],
   "source": [
    "x = data['Date'].value_counts() #conta a quantiade de tweets por dia\n",
    "x"
   ]
  },
  {
   "cell_type": "code",
   "execution_count": null,
   "metadata": {},
   "outputs": [],
   "source": [
    "tlen = pd.Series(data['Date'].value_counts(), index=data['Date'])\n",
    "\n",
    "tlen.plot(figsize=(16,4), color='r');"
   ]
  },
  {
   "cell_type": "markdown",
   "metadata": {},
   "source": [
    "### Text Mining com o pacote NLTK"
   ]
  },
  {
   "cell_type": "code",
   "execution_count": null,
   "metadata": {},
   "outputs": [],
   "source": [
    "from nltk.tokenize import TweetTokenizer\n",
    "\n",
    "tweet_tokenizer = TweetTokenizer(preserve_case=False, strip_handles=True, reduce_len=True)\n",
    "\n",
    "tweets_tokens = [] #lista para armazenar os tokens"
   ]
  },
  {
   "cell_type": "code",
   "execution_count": null,
   "metadata": {},
   "outputs": [],
   "source": [
    "for tweet in tweets_df['Tweets']:   \n",
    "    print (tweet_tokenizer.tokenize(tweet))\n",
    "    tweets_tokens.append(tweet_tokenizer.tokenize(tweet))"
   ]
  },
  {
   "cell_type": "markdown",
   "metadata": {},
   "source": [
    " #### Limpar tokens"
   ]
  },
  {
   "cell_type": "code",
   "execution_count": null,
   "metadata": {},
   "outputs": [],
   "source": [
    "import nltk\n",
    "nltk.download('stopwords')"
   ]
  },
  {
   "cell_type": "code",
   "execution_count": null,
   "metadata": {},
   "outputs": [],
   "source": [
    "\n",
    "from nltk.corpus import stopwords \n",
    "import string\n",
    " \n",
    "punctuation = list(string.punctuation)\n",
    "stopwords_english = stopwords.words('english')"
   ]
  },
  {
   "cell_type": "code",
   "execution_count": null,
   "metadata": {},
   "outputs": [],
   "source": [
    "def clean_tweets(tweet):\n",
    "    # remove stock market tickers like $GE\n",
    "    tweet = re.sub(r'\\$\\w*', '', tweet)\n",
    " \n",
    "    # remove old style retweet text \"RT\"\n",
    "    tweet = re.sub(r'^RT[\\s]+', '', tweet)\n",
    " \n",
    "    # remove hyperlinks\n",
    "    tweet = re.sub(r'https?:\\/\\/.*[\\r\\n]*', '', tweet)\n",
    "    \n",
    "    # remove hashtags\n",
    "    # only removing the hash # sign from the word\n",
    "    tweet = re.sub(r'#', '', tweet)\n",
    "    \n",
    "    # tokenize tweets\n",
    "    tokenizer = TweetTokenizer(preserve_case=False, strip_handles=True, reduce_len=True)\n",
    "    tweet_tokens = tokenizer.tokenize(tweet)\n",
    " \n",
    "    tweets_clean = []    \n",
    "    for word in tweet_tokens:\n",
    "        if (word not in stopwords_english and # remove stopwords\n",
    "                word not in string.punctuation): # remove punctuation\n",
    "            tweets_clean.append(word)\n",
    " \n",
    "    return tweets_clean   "
   ]
  },
  {
   "cell_type": "code",
   "execution_count": null,
   "metadata": {},
   "outputs": [],
   "source": [
    "clean_tweets_tokens = [] #lista para armazenar os tokens"
   ]
  },
  {
   "cell_type": "code",
   "execution_count": null,
   "metadata": {},
   "outputs": [],
   "source": [
    "\n",
    "for tweet in tweets_df['Tweets']:   \n",
    "    print (clean_tweets(tweet))\n",
    "    clean_tweets_tokens.append(clean_tweets(tweet))"
   ]
  }
 ],
 "metadata": {
  "kernelspec": {
   "display_name": "Python 3",
   "language": "python",
   "name": "python3"
  },
  "language_info": {
   "codemirror_mode": {
    "name": "ipython",
    "version": 3
   },
   "file_extension": ".py",
   "mimetype": "text/x-python",
   "name": "python",
   "nbconvert_exporter": "python",
   "pygments_lexer": "ipython3",
   "version": "3.7.1"
  }
 },
 "nbformat": 4,
 "nbformat_minor": 4
}
