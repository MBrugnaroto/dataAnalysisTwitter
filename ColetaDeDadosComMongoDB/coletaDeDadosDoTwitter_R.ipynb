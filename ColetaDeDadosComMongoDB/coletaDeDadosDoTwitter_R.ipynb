{
 "cells": [
  {
   "cell_type": "markdown",
   "metadata": {},
   "source": [
    "## Instalação da biblioteca para manipulação da API do twitter"
   ]
  },
  {
   "cell_type": "code",
   "execution_count": 1,
   "metadata": {},
   "outputs": [
    {
     "name": "stdout",
     "output_type": "stream",
     "text": [
      "package 'rtweet' successfully unpacked and MD5 sums checked\n",
      "\n",
      "The downloaded binary packages are in\n",
      "\tC:\\Users\\mbrug\\AppData\\Local\\Temp\\RtmpMznnlI\\downloaded_packages\n"
     ]
    }
   ],
   "source": [
    "install.packages(\"rtweet\")"
   ]
  },
  {
   "cell_type": "markdown",
   "metadata": {},
   "source": [
    "## Importar a biblioteca"
   ]
  },
  {
   "cell_type": "code",
   "execution_count": 12,
   "metadata": {},
   "outputs": [],
   "source": [
    "library(rtweet)\n",
    "library(maps)"
   ]
  },
  {
   "cell_type": "markdown",
   "metadata": {},
   "source": [
    "## Definir diretório de trabalho"
   ]
  },
  {
   "cell_type": "code",
   "execution_count": 3,
   "metadata": {},
   "outputs": [],
   "source": [
    "setwd(\"C:/Users/mbrug/Desktop/TwitterData\")"
   ]
  },
  {
   "cell_type": "markdown",
   "metadata": {},
   "source": [
    "## Autenticação da API do twitter"
   ]
  },
  {
   "cell_type": "code",
   "execution_count": 4,
   "metadata": {},
   "outputs": [],
   "source": [
    "token <- create_token(app = \"IGTIChallenge\", consumer_key = \"JYL3GsCttjpDNnDIEEMXcDkie\",\n",
    "                     consumer_secret = \"HcdBcbSqKGQUhp5qaNo9xSo15IeZ4qyXtI0pls7qQpk1sdN9we\",\n",
    "                     access_token = \"1275047684685148162-JBSg2LMv328OS0CimVuYIYAXlMb34t\",\n",
    "                     access_secret = \"YWHPESluSPA3nfvX133XefMAiud6bg56vPMcaRLISm9Iy\")"
   ]
  },
  {
   "cell_type": "markdown",
   "metadata": {},
   "source": [
    "## Parametros de busca (por usuário)"
   ]
  },
  {
   "cell_type": "code",
   "execution_count": 5,
   "metadata": {},
   "outputs": [],
   "source": [
    "# Setamos qual conta específica queremos coletar dados\n",
    "screen_name <- \"jairbolsonaro\""
   ]
  },
  {
   "cell_type": "markdown",
   "metadata": {},
   "source": [
    "## Buscando "
   ]
  },
  {
   "cell_type": "code",
   "execution_count": 6,
   "metadata": {
    "scrolled": true
   },
   "outputs": [
    {
     "name": "stderr",
     "output_type": "stream",
     "text": [
      "Registered S3 method overwritten by 'openssl':\n",
      "  method      from\n",
      "  print.bytes Rcpp\n"
     ]
    }
   ],
   "source": [
    "# Coleta os dados get_timeline(conta_twitter, numero_tweets, incluir_retweets, excluir_replicações)\n",
    "tweets <- get_timeline(screen_name, n = 1000, include_rts = TRUE, exclude_replies = TRUE)"
   ]
  },
  {
   "cell_type": "markdown",
   "metadata": {},
   "source": [
    "## Salvando o vetor de tweets como CSV e apenas o Texto em TXT na codificação do portugues"
   ]
  },
  {
   "cell_type": "code",
   "execution_count": 8,
   "metadata": {},
   "outputs": [],
   "source": [
    "write_as_csv(tweets, \"TweetsByNameRawData.csv\", fileEncoding = \"latin1//TRANSLIT\")"
   ]
  },
  {
   "cell_type": "code",
   "execution_count": 9,
   "metadata": {},
   "outputs": [
    {
     "name": "stderr",
     "output_type": "stream",
     "text": [
      "Registered S3 methods overwritten by 'ggplot2':\n",
      "  method         from \n",
      "  [.quosures     rlang\n",
      "  c.quosures     rlang\n",
      "  print.quosures rlang\n"
     ]
    },
    {
     "data": {
      "image/png": "[encoded data removed]",
      "text/plain": [
       "plot without title"
      ]
     },
     "metadata": {},
     "output_type": "display_data"
    }
   ],
   "source": [
    "ts_plot(tweets, \"3 hours\") +\n",
    "    ggplot2::theme_minimal() +\n",
    "    ggplot2::theme(plot.title = ggplot2::element_text (face = \"bold\")) +\n",
    "    ggplot2::labs (\n",
    "        x = NULL, y = NULL,\n",
    "        title = \"Frequencia de tweets da conta 'jairbolsonaro' nos ultimos 9 dias\",\n",
    "        subtitle = \"Contagem de tweets agregados em intervalos de 3 horas\",\n",
    "        caption = \"\\nFonte: Dados coletados no Twitter com pocote rtweet\"\n",
    "        )"
   ]
  },
  {
   "cell_type": "markdown",
   "metadata": {},
   "source": [
    "## Parametros de busca (por hashtags)"
   ]
  },
  {
   "cell_type": "code",
   "execution_count": 13,
   "metadata": {},
   "outputs": [],
   "source": [
    "search.string <- c(\"#ficaemcasa OR #coronavirus OR #covid OR #covid-19 or #covid19\")\n",
    "type = \"mixed\" #\"recent\" , \"mixed\" , \"popular\""
   ]
  },
  {
   "cell_type": "markdown",
   "metadata": {},
   "source": [
    "## Buscando"
   ]
  },
  {
   "cell_type": "code",
   "execution_count": 14,
   "metadata": {},
   "outputs": [],
   "source": [
    "# include_rts (TRUE ou FALSE) - usado para indicar se inclui retweeets ou não na pesquisa\n",
    "# retryonratelimit (TRUE ou false) - usado para indicar se continua ou não depois do limite de 18000 tweets\n",
    "# lang - linguagem\n",
    "\n",
    "tweets <- search_tweets(search.string, n = 18000, lang = \"pt\", type = type,\n",
    "                       include_rts = FALSE, retryonratelimit = TRUE)"
   ]
  },
  {
   "cell_type": "code",
   "execution_count": 25,
   "metadata": {
    "scrolled": false
   },
   "outputs": [
    {
     "name": "stderr",
     "output_type": "stream",
     "text": [
      "Warning message in polygon(coord, col = col, ...):\n",
      "\"\"coll\" is not a graphical parameter\""
     ]
    },
    {
     "data": {
      "image/png": "[encoded data removed]",
      "text/plain": [
       "plot without title"
      ]
     },
     "metadata": {},
     "output_type": "display_data"
    }
   ],
   "source": [
    "## Salvando o vetor de tweets como CSV e apenas o texto em TXT na codificação do portugues\n",
    "write_as_csv(tweets, \"TweetsRawData.csv\", fileEncoding = \"latin1//TRANSLIT\")\n",
    "write.table(tweets$text, \"TweetsRawData.txt\", fileEncoding = \"latin1//TRANSLIT\")\n",
    "\n",
    "tweets <- lat_lng(tweets) #Cria lat/lgn variaveis usando todos os tweets disponíveis\n",
    "\n",
    "# Plota o mapa do brasil\n",
    "par(mar=c(0,0,0,0)) # Função par define ou ajusta os parametros de plotagem. Parametro mar ajuta as margens\n",
    "map(\"world\", \"brazil\", lwd = 0.3, fill=T, coll=\"grey95\")\n",
    "map(,,add=T)\n",
    "map.axes()\n",
    "map.scale(ratio=T, cex=0.3)\n",
    "abline(h=0, lty=2)\n",
    "map.cities(country = \"Brazil\", minpop = 2000000, pch=15, cex=0.9) # pacote maps\n",
    "\n",
    "# Adiciona os tweets ao mapa\n",
    "with(tweets, points(lng, lat, pch = 20, cex = .75, col = rgb(0, .3, .7, .75)))"
   ]
  }
 ],
 "metadata": {
  "kernelspec": {
   "display_name": "R",
   "language": "R",
   "name": "ir"
  },
  "language_info": {
   "codemirror_mode": "r",
   "file_extension": ".r",
   "mimetype": "text/x-r-source",
   "name": "R",
   "pygments_lexer": "r",
   "version": "3.6.1"
  }
 },
 "nbformat": 4,
 "nbformat_minor": 4
}
