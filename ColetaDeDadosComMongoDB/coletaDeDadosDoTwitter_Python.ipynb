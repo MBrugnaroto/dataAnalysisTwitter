{
 "cells": [
  {
   "cell_type": "markdown",
   "metadata": {},
   "source": [
    "### Importar pacotes"
   ]
  },
  {
   "cell_type": "code",
   "execution_count": 2,
   "metadata": {},
   "outputs": [],
   "source": [
    "import tweepy"
   ]
  },
  {
   "cell_type": "markdown",
   "metadata": {},
   "source": [
    "Credenciais:"
   ]
  },
  {
   "cell_type": "code",
   "execution_count": 3,
   "metadata": {},
   "outputs": [],
   "source": [
    "consumer_key = \"\"\n",
    "consumer_secret = \"\"\n",
    "access_token = \"\"\n",
    "access_token_secret = \"\""
   ]
  },
  {
   "cell_type": "markdown",
   "metadata": {},
   "source": [
    "Fazer autenticação da API usando suas credenciais:"
   ]
  },
  {
   "cell_type": "code",
   "execution_count": 43,
   "metadata": {},
   "outputs": [],
   "source": [
    "auth = tweepy.OAuthHandler(consumer_key, consumer_secret)\n",
    "auth.set_access_token(access_token, access_token_secret)\n",
    "token = tweepy.API(auth)"
   ]
  },
  {
   "cell_type": "markdown",
   "metadata": {},
   "source": [
    "Retornar os tweets feitos na propria conta que esta como dev"
   ]
  },
  {
   "cell_type": "code",
   "execution_count": 44,
   "metadata": {},
   "outputs": [],
   "source": [
    "public_tweets = token.home_timeline()\n",
    "\n",
    "for tweet in public_tweets:\n",
    "    print(tweet.text)"
   ]
  },
  {
   "cell_type": "markdown",
   "metadata": {},
   "source": [
    "Realizar a busca por palavra chave"
   ]
  },
  {
   "cell_type": "code",
   "execution_count": 46,
   "metadata": {},
   "outputs": [],
   "source": [
    "keyword = ('covid OR covid-19 OR corona OR coronavirus')"
   ]
  },
  {
   "cell_type": "code",
   "execution_count": 47,
   "metadata": {},
   "outputs": [],
   "source": [
    "tweets = token.search(q=keyword, count=10, result_type='mixed')"
   ]
  },
  {
   "cell_type": "code",
   "execution_count": 50,
   "metadata": {},
   "outputs": [
    {
     "name": "stdout",
     "output_type": "stream",
     "text": [
      "Total de tweets coletados 10.\n"
     ]
    }
   ],
   "source": [
    "# Verificar a quantidade de tweets coeltados:\n",
    "\n",
    "print(\"Total de tweets coletados %s.\"%(len(tweets)))"
   ]
  },
  {
   "cell_type": "code",
   "execution_count": 15,
   "metadata": {},
   "outputs": [
    {
     "name": "stdout",
     "output_type": "stream",
     "text": [
      "Usuário: {'BaileyCarlin'}\n",
      "  Tweet: {'If Kiss Me Thru the Phone had come out during Coronavirus it would’ve been the #1 song in the history of music'}\n",
      "Usuário: {'RBReich'}\n",
      "  Tweet: {'Your reminder that schools in Germany, Norway, and Denmark can open safely because their leaders contained Covid-19… https://t.co/YrQ9jrWW0q'}\n",
      "Usuário: {'drdavidsamadi'}\n",
      "  Tweet: {'I’ve been working hard to help fight the coronavirus rumors and paranoia peddled by the highest levels of the mains… https://t.co/h8g65GUoJx'}\n",
      "Usuário: {'fidiasmora'}\n",
      "  Tweet: {'RT @Osirisdleon: A partir de hoy jueves estará llegando a la República Dominicana una nueva nube de polvo procedente del Sáhara.\\nAtención a…'}\n",
      "Usuário: {'firegodmc10'}\n",
      "  Tweet: {'RT @CathFlowers: She passed away from Covid on July 3rd. Let’s remove the injustice and structures that trapped her.'}\n",
      "Usuário: {'MVJAVJ'}\n",
      "  Tweet: {'La otra tragedia: 10 mil empresas y negocios desaparecen por COVID-19 https://t.co/3TBA0alwrR'}\n",
      "Usuário: {'trcyclnmrt'}\n",
      "  Tweet: {'@JustinewithnoE @_kpfz rat na ket may covid sa subd nila'}\n",
      "Usuário: {'NCAI1944'}\n",
      "  Tweet: {'RT @NCAIPRC: Read our latest Situation Summary updates on COVID-19 case trends in Indian Country based on @IHSgov and CDC data – updates no…'}\n",
      "Usuário: {'EliZambrano97'}\n",
      "  Tweet: {'RT @larepublica_ec: Capturas de pantalla de personas que en su desespero por obtener ACTERMA, ampollas para tratar el coronavirus, negociar…'}\n",
      "Usuário: {'doll_kaname'}\n",
      "  Tweet: {'RT @corona_no_baka: 📌在庫ロスでお困りの方から新しい投稿がありました📌\\n#東京都の 内田製麺さんより\\n『レインボー麺7色セット』\\nhttps://t.co/FHAgf4vreV\\n#在庫ロス掲示板 #経済を回そう #食品ロス #フードロス\\n#生ラーメン #レイ…'}\n"
     ]
    }
   ],
   "source": [
    "# Imprimindo algumas informações do usuário (screen_name) e o texto do tweet\n",
    "\n",
    "for tweet in tweets:\n",
    "    print(\"Usuário: %s\"%{tweet.user.screen_name})\n",
    "    print(\"  Tweet: %s\"%{tweet.text}) # Caso fosse utilizado tweet_mode='extended' chamariamos por tweet.full_text"
   ]
  },
  {
   "cell_type": "markdown",
   "metadata": {},
   "source": [
    "## Análise de Polaridade\n",
    " \n",
    " **Observação:** Lembre-se de instalar os pacotes primeiro."
   ]
  },
  {
   "cell_type": "code",
   "execution_count": 55,
   "metadata": {},
   "outputs": [],
   "source": [
    "# Váriavel que irá armazenar as polaridades\n",
    "analysis = None\n",
    "\n",
    "# Lista vazia para armazenar scores\n",
    "tweets_score = []"
   ]
  },
  {
   "cell_type": "code",
   "execution_count": 56,
   "metadata": {},
   "outputs": [
    {
     "name": "stdout",
     "output_type": "stream",
     "text": [
      "** If Kiss Me Thru the Phone had come out during Coronavirus it would’ve been the #1 song in the history of music\n",
      "** Your reminder that schools in Germany, Norway, and Denmark can open safely because their leaders contained Covid-19… https://t.co/YrQ9jrWW0q\n",
      "** I’ve been working hard to help fight the coronavirus rumors and paranoia peddled by the highest levels of the mains… https://t.co/h8g65GUoJx\n",
      "** RT @cbnbrasilia: O GDF publicou um decreto que exige 65 leitos de UTI dos hospitais privados para a rede pública de saúde. A ideia é amplia…\n",
      "** RT @Ghane_sa: Ketua KPK: Dana Penanganan Covid-19 Sengaja Diperbesar Untuk Pencitraan\n",
      "\n",
      "#NegaraPailitGadaDuit\n",
      "#NegaraPailitGadaDuit\n",
      "https://…\n",
      "** RT @Petersbooks: How can reading support students' mental health and wellbeing after Covid-19? In this guest post, @AbiLown explores the be…\n",
      "** RT @davidaxelrod: Who said the rally wasn’t impactful?\n",
      "I’m sure folks in NH are excited that the Super Spreader is headed there next! https…\n",
      "** RT @Bisanomio: Abro HILO de:\n",
      "\n",
      "VACUNAS CONTRA EL CORONAVIRUS\n",
      "\n",
      "Avance Mundial\n",
      "\n",
      "[Hilo] https://t.co/k2CFVoGF65\n",
      "** RT @JodyNomada: Se lamenta el fallecimiento a causa de COVID-19 del magistrado y ex juez penal, Carlos Aguilar. Que en paz descanse. \n",
      "\n",
      "A la…\n",
      "** RT @MStypula: My wife in the ICU due to COVID-19. It is killing me that I cannot be there. Please pray for Mara. Thanks\n"
     ]
    }
   ],
   "source": [
    "for tweet in tweets:\n",
    "    print('**', tweet.text)\n",
    "    analysis = tb(tweet.text)\n",
    "    polarity = analysis.sentiment.polarity\n",
    "    tweets_score.append(polarity)"
   ]
  },
  {
   "cell_type": "code",
   "execution_count": 59,
   "metadata": {},
   "outputs": [
    {
     "name": "stdout",
     "output_type": "stream",
     "text": [
      "Vetor de polaridade: [0.0, 0.25, -0.2916666666666667, 0.05, 0.0, -0.1, 0.3020833333333333, 0.0, 0.0, 0.037500000000000006]\n",
      "Média de sentimento: 0.024791666666666663\n"
     ]
    }
   ],
   "source": [
    "print('Vetor de polaridade:', tweets_score)\n",
    "print('Média de sentimento: ' + str(np.mean(tweets_score)))"
   ]
  },
  {
   "cell_type": "markdown",
   "metadata": {},
   "source": [
    "Analise de polaridade para tweets que não foram postados em inglês"
   ]
  },
  {
   "cell_type": "code",
   "execution_count": 60,
   "metadata": {},
   "outputs": [
    {
     "name": "stdout",
     "output_type": "stream",
     "text": [
      "Texto traduzido de PT para EN - RT @cbnbrasilia: The GDF published a decree requiring 65 ICU beds from private hospitals for the public health network. The idea is broad…: \n",
      "Texto traduzido de ID para EN - RT @Ghane_sa: KPK Chairperson: Covid-19 Handling Funds Intentionally Enlarged for Imaging\n",
      "\n",
      "#Neget BankruptcyMadaDuit\n",
      "#Neget BankruptcyMadaDuit\n",
      "https: // ...: \n",
      "Texto traduzido de ES para EN - RT @Bisanomio: I open THREAD of:\n",
      "\n",
      "VACCINES AGAINST CORONAVIRUSES\n",
      "\n",
      "World Advance\n",
      "\n",
      "[Thread] https://t.co/k2CFVoGF65: \n",
      "Texto traduzido de ES para EN - RT @JodyNomada: The death due to COVID-19 of the magistrate and former criminal judge, Carlos Aguilar, is regretted. Rest in peace.\n",
      "\n",
      "To…: \n"
     ]
    }
   ],
   "source": [
    "polarities = []\n",
    "\n",
    "for tweet in tweets:\n",
    "    analysis = tb(tweet.text)\n",
    "    \n",
    "    if analysis.detect_language() != 'en':\n",
    "        traducao = tb(str(analysis.translate(to='en')))\n",
    "        \n",
    "        print('Texto traduzido de ' + analysis.detect_language().upper() + ' para EN - %s: '%traducao )\n",
    "        \n",
    "        polarity = traducao.sentiment.polarity\n",
    "    else:\n",
    "        polarity = analysis.sentiment.polarity\n",
    "    \n",
    "    polarities.append(polarity)"
   ]
  },
  {
   "cell_type": "code",
   "execution_count": 20,
   "metadata": {},
   "outputs": [
    {
     "name": "stdout",
     "output_type": "stream",
     "text": [
      "Vetor de polaridade: [0.0, 0.25, -0.2916666666666667, 0.0, -0.1, 0.0, 0.0, 0.5, 0.0, 0.0]\n",
      "Média de sentimento: 0.035833333333333335\n"
     ]
    }
   ],
   "source": [
    "print('Vetor de polaridade:', tweets_score)\n",
    "print('Média de sentimento: ' + str(np.mean(tweets_score)))"
   ]
  },
  {
   "cell_type": "markdown",
   "metadata": {},
   "source": [
    "## Armazenar os dados do Twitter"
   ]
  },
  {
   "cell_type": "code",
   "execution_count": 78,
   "metadata": {},
   "outputs": [],
   "source": [
    "# Importar o pacote json\n",
    "import json"
   ]
  },
  {
   "cell_type": "code",
   "execution_count": 67,
   "metadata": {},
   "outputs": [],
   "source": [
    "status = tweets[0]\n",
    "\n",
    "# Converter para string\n",
    "json_str = json.dumps(status._json)\n",
    "\n",
    "# Deserialise string para um obejto python\n",
    "parsed = json.loads(json_str)"
   ]
  },
  {
   "cell_type": "code",
   "execution_count": 68,
   "metadata": {},
   "outputs": [
    {
     "data": {
      "text/plain": [
       "tweepy.models.SearchResults"
      ]
     },
     "execution_count": 68,
     "metadata": {},
     "output_type": "execute_result"
    }
   ],
   "source": [
    "type(tweets)"
   ]
  },
  {
   "cell_type": "code",
   "execution_count": 77,
   "metadata": {},
   "outputs": [
    {
     "data": {
      "text/plain": [
       "str"
      ]
     },
     "execution_count": 77,
     "metadata": {},
     "output_type": "execute_result"
    }
   ],
   "source": [
    "type(json_str)"
   ]
  },
  {
   "cell_type": "code",
   "execution_count": 76,
   "metadata": {},
   "outputs": [
    {
     "data": {
      "text/plain": [
       "dict"
      ]
     },
     "execution_count": 76,
     "metadata": {},
     "output_type": "execute_result"
    }
   ],
   "source": [
    "type(parsed)"
   ]
  },
  {
   "cell_type": "markdown",
   "metadata": {},
   "source": [
    "Agora que sabemos como fazer a deserialização dos dados, vamos realiza-la para todos e gravas em um JSON."
   ]
  },
  {
   "cell_type": "markdown",
   "metadata": {},
   "source": [
    "**Observação:** Antes de executar o script, defina o destino do *dataset* "
   ]
  },
  {
   "cell_type": "code",
   "execution_count": 27,
   "metadata": {},
   "outputs": [],
   "source": [
    "datasetPath = r'diretorio'\n",
    "\n",
    "with open(datasetPath+'\\\\tweets_keywords.json', 'a', encoding='utf8') as filename: #aberto em modo append\n",
    "    for tweet in tweets:\n",
    "        status = tweet\n",
    "        \n",
    "        json_str = json.dumps(status._json)\n",
    "        parsed = json.loads(json_str)\n",
    "        json.dump(parsed, filename, ensure_ascii=False, sort_keys=True, indent = 4, separators=(',', ':'))"
   ]
  },
  {
   "cell_type": "markdown",
   "metadata": {},
   "source": [
    "**Armazena no MongoDB**"
   ]
  },
  {
   "cell_type": "code",
   "execution_count": 34,
   "metadata": {},
   "outputs": [],
   "source": [
    "import pymongo"
   ]
  },
  {
   "cell_type": "code",
   "execution_count": 35,
   "metadata": {},
   "outputs": [],
   "source": [
    "con = pymongo.MongoClient('localhost', 27017)\n",
    "db = con.twitterdb\n",
    "collection = db.tweets_keywords"
   ]
  },
  {
   "cell_type": "code",
   "execution_count": 37,
   "metadata": {},
   "outputs": [
    {
     "name": "stderr",
     "output_type": "stream",
     "text": [
      "C:\\Users\\mbrug\\.conda\\envs\\dev\\lib\\site-packages\\ipykernel_launcher.py:2: DeprecationWarning: count is deprecated. Use estimated_document_count or count_documents instead. Please note that $where must be replaced by $expr, $near must be replaced by $geoWithin with $center, and $nearSphere must be replaced by $geoWithin with $centerSphere\n",
      "  \n"
     ]
    },
    {
     "data": {
      "text/plain": [
       "10"
      ]
     },
     "execution_count": 37,
     "metadata": {},
     "output_type": "execute_result"
    }
   ],
   "source": [
    "# Lista a quantidade de tweets existentes na coleção\n",
    "db.tweets_keywords.count() #Irá causar um warnning por ainda não ter inserido dados"
   ]
  },
  {
   "cell_type": "code",
   "execution_count": 38,
   "metadata": {},
   "outputs": [],
   "source": [
    "for tweet in tweets:\n",
    "    collection.insert_one(tweet._json)"
   ]
  },
  {
   "cell_type": "code",
   "execution_count": 39,
   "metadata": {},
   "outputs": [
    {
     "data": {
      "text/plain": [
       "20"
      ]
     },
     "execution_count": 39,
     "metadata": {},
     "output_type": "execute_result"
    }
   ],
   "source": [
    "# Lista a quantidade de tweets existentes na coleção\n",
    "collection.count_documents({})"
   ]
  },
  {
   "cell_type": "code",
   "execution_count": null,
   "metadata": {},
   "outputs": [],
   "source": []
  }
 ],
 "metadata": {
  "kernelspec": {
   "display_name": "Python 3",
   "language": "python",
   "name": "python3"
  },
  "language_info": {
   "codemirror_mode": {
    "name": "ipython",
    "version": 3
   },
   "file_extension": ".py",
   "mimetype": "text/x-python",
   "name": "python",
   "nbconvert_exporter": "python",
   "pygments_lexer": "ipython3",
   "version": "3.7.1"
  }
 },
 "nbformat": 4,
 "nbformat_minor": 4
}
