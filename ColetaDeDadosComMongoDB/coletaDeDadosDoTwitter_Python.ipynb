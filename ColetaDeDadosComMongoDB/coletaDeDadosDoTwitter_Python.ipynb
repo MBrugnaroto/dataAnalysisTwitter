{
 "cells": [
  {
   "cell_type": "markdown",
   "metadata": {},
   "source": [
    "## Instalação da biblioteca para manipulação da API do twitter"
   ]
  },
  {
   "cell_type": "markdown",
   "metadata": {},
   "source": [
    "**OBSERVAÇÃO:**\n",
    " \n",
    "Antes de usar o tweepy pela primeira vez, **<font color='red'>é necessário instalar o pacote</font>**. Para isso, acesse o prompt do Anaconda e execute o comando:\n",
    "#### - *conda install -c conda-forge twepy*\n",
    "\n",
    " **<font color='red'>SEMPRE é necessário importar</font>**  o(s) pacote(s) que serão usados no seu script.\n",
    "\n",
    " Vamos importar os pacotes que precisaremos usar nessa aplicação: TextBlob (analise de sentimentos), Tweepy (acesso a api) e NumPy\n",
    " Tenha certeza que todos os pacotes foram previamente instalados:\n",
    " #### - *conda install -c conda-forge textblob*   \n",
    " #### - *conda install -c conda-forge numpy*\n"
   ]
  },
  {
   "cell_type": "markdown",
   "metadata": {},
   "source": [
    "### Importar pacotes"
   ]
  },
  {
   "cell_type": "code",
   "execution_count": 4,
   "metadata": {},
   "outputs": [],
   "source": [
    "import tweepy"
   ]
  },
  {
   "cell_type": "markdown",
   "metadata": {},
   "source": [
    "### Credenciais para utilização da API do Twitter\n",
    "\n",
    "Para utilizar a API do twitter, é necessário ter uma conta no twitter, solicitar o acesso de desenvolvedor, criar sua aplicação, gerar suas credenciais.\n",
    "\n",
    "* Credenciais:"
   ]
  },
  {
   "cell_type": "code",
   "execution_count": 10,
   "metadata": {},
   "outputs": [],
   "source": [
    "consumer_key = \"JYL3GsCttjpDNnDIEEMXcDkie\"\n",
    "consumer_secret = \"HcdBcbSqKGQUhp5qaNo9xSo15IeZ4qyXtI0pls7qQpk1sdN9we\"\n",
    "access_token = \"1275047684685148162-JBSg2LMv328OS0CimVuYIYAXlMb34t\"\n",
    "access_token_secret = \"YWHPESluSPA3nfvX133XefMAiud6bg56vPMcaRLISm9Iy\""
   ]
  },
  {
   "cell_type": "markdown",
   "metadata": {},
   "source": [
    "Fazer autenticação da API usando suas credenciais:"
   ]
  },
  {
   "cell_type": "code",
   "execution_count": 13,
   "metadata": {},
   "outputs": [],
   "source": [
    "auth = tweepy.OAuthHandler(consumer_key, consumer_secret)\n",
    "auth.set_access_token(access_token, access_token_secret)\n",
    "token = tweepy.API(auth)"
   ]
  },
  {
   "cell_type": "markdown",
   "metadata": {},
   "source": [
    "### Retornar os tweets feitos na propria conta que esta como dev"
   ]
  },
  {
   "cell_type": "code",
   "execution_count": 19,
   "metadata": {},
   "outputs": [
    {
     "name": "stdout",
     "output_type": "stream",
     "text": [
      "Seus tweets estão sendo vazados\n",
      "Estou aqui apenas para aprendizado academico\n"
     ]
    }
   ],
   "source": [
    "api = tweepy.API(auth)\n",
    "\n",
    "public_tweets = api.home_timeline()\n",
    "\n",
    "for tweet in public_tweets:\n",
    "    print(tweet.text)"
   ]
  },
  {
   "cell_type": "markdown",
   "metadata": {},
   "source": [
    "### Realizar a busca por palavra chave"
   ]
  },
  {
   "cell_type": "code",
   "execution_count": 15,
   "metadata": {},
   "outputs": [],
   "source": [
    "# Definir que palavra deseja pesquisar no twitter\n",
    "# Para saber mais como é feita a busca, além da documentação, um método fácil é verificar diretamente na aba de pesquisa\n",
    "# do twitter\n",
    "\n",
    "keyword = ('covid OR covid-19 OR corona OR coronavirus')"
   ]
  },
  {
   "cell_type": "code",
   "execution_count": 16,
   "metadata": {},
   "outputs": [],
   "source": [
    "# Fazer a busca por palavra\n",
    "\n",
    "# result_type --> mixed (default), recent, popular\n",
    "# tweets --> variável que irá armazenar todos os tweets\n",
    "\n",
    "tweets = token.search(q=keyword, count=10, result_type='mixed')"
   ]
  },
  {
   "cell_type": "markdown",
   "metadata": {},
   "source": [
    " **Observação:**\n",
    " \n",
    " Fazer a busca por palavra chave, busca o text do tweet truncado:\n",
    " * tweets = token.search(q=keyword,lang='pt')\n",
    " \n",
    "Fazer a busca por palavra chave, busca o text do tweet por inteiro\n",
    " * tweets = token.search(q=keyword,tweet_mode='extended')"
   ]
  },
  {
   "cell_type": "code",
   "execution_count": 17,
   "metadata": {},
   "outputs": [
    {
     "name": "stdout",
     "output_type": "stream",
     "text": [
      "Total de tweets coletados 10.\n"
     ]
    }
   ],
   "source": [
    "# Verificar a quantidade de tweets coeltados:\n",
    "\n",
    "print(\"Total de tweets coletados %s.\"%(len(tweets)))"
   ]
  },
  {
   "cell_type": "code",
   "execution_count": 18,
   "metadata": {},
   "outputs": [
    {
     "name": "stdout",
     "output_type": "stream",
     "text": [
      "Usuário: {'JasmynBeKnowing'}\n",
      "  Tweet: {'This woman on the news just said, imagine if there was a medication that reduced your chances of getting COVID by 5… https://t.co/A4WfncIX9G'}\n",
      "Usuário: {'CNBCnow'}\n",
      "  Tweet: {'The Trump admin. plans to end federal funding and support for coronavirus testing sites at the end of this month,… https://t.co/SlXjay1M3f'}\n",
      "Usuário: {'funder'}\n",
      "  Tweet: {'BREAKING: Trump is ending funding for 13 coronavirus testing sites in 5 states. This is an example of Trump slowing… https://t.co/M5Rws4dSUy'}\n",
      "Usuário: {'theobxfiles'}\n",
      "  Tweet: {'RT @DWUhlfelderLaw: Florida reports more than 5,000 new COVID-19 cases for second day in row'}\n",
      "Usuário: {'goldclock12'}\n",
      "  Tweet: {'RT @PoliciaCali: Acate las recomendaciones y respete las medidas de distanciamiento para la prevención del contagio de Covid-19 en centros…'}\n",
      "Usuário: {'Liz3ttt'}\n",
      "  Tweet: {'RT @hirxcane: Everything’s bigger in Texas, even the threat of corona https://t.co/0BiwmaNNv9'}\n",
      "Usuário: {'JLP_7272'}\n",
      "  Tweet: {'RT @AshaRangappa_: 9. The level of panic Trump has exhibited on this topic — and the downplay of COVID — is partially explained by this. He…'}\n",
      "Usuário: {'LadyVibeUK'}\n",
      "  Tweet: {'Dutch Minks Contract COVID-19 — And Appear To Infect Humans This outbreak of COVID-19 adds to the list of animals t… https://t.co/tbFlCkyofx'}\n",
      "Usuário: {'gPod52'}\n",
      "  Tweet: {'RT @mj_lee: Biden is speaking now:\\n\\n\"Perhaps most cruelly of all, if Donald Trump has his way, complications from COVID-19 could become the…'}\n",
      "Usuário: {'pmaciasc'}\n",
      "  Tweet: {'RT @juanrallo: El Congreso, a favor de esconder la cifra real de fallecidos por coronavirus. ¿Cuál es la razón de semejante oscurantismo?'}\n"
     ]
    }
   ],
   "source": [
    "# Podemos imprimir o nome do usuário (screen_name) e o texto do tweet\n",
    "\n",
    "for tweet in tweets:\n",
    "    print(\"Usuário: %s\"%{tweet.user.screen_name})\n",
    "    print(\"  Tweet: %s\"%{tweet.text}) # Caso fosse utilizado tweet_mode='extended' chamariamos por tweet.full_text"
   ]
  },
  {
   "cell_type": "markdown",
   "metadata": {},
   "source": [
    "## <font color=blue>Análise de polaridade</font>\n",
    "\n",
    " Para fazer a **análise de polaridade**, vamos usar a função *sentiment.polarity* do pacote *TextBlob*.\n",
    " \n",
    " * A função *sentiment.polarity* retornará um número entre -1 e 1, onde quanto maior esse número, menos \"chateada\" a pessoa que postou está. \n",
    " \n",
    " Ou seja, quanto maior esse número mais positivo é o tweet. Podemos ainda considerar que a polaridade 0 (zero) pode indicar uma neutralidade do tweet."
   ]
  },
  {
   "cell_type": "code",
   "execution_count": 22,
   "metadata": {},
   "outputs": [],
   "source": [
    "# Importar pacotes\n",
    "\n",
    "from textblob import TextBlob as tb\n",
    "import numpy as np"
   ]
  },
  {
   "cell_type": "markdown",
   "metadata": {},
   "source": [
    " **Observação:** Lembre-se de instalar os pacotes primeiro."
   ]
  },
  {
   "cell_type": "code",
   "execution_count": 23,
   "metadata": {},
   "outputs": [],
   "source": [
    "# Váriavel que irá armazenar as polaridades\n",
    "analysis = None\n",
    "\n",
    "# Lista vazia para armazenar scores\n",
    "tweets_score = []"
   ]
  },
  {
   "cell_type": "code",
   "execution_count": 24,
   "metadata": {},
   "outputs": [
    {
     "name": "stdout",
     "output_type": "stream",
     "text": [
      "** This woman on the news just said, imagine if there was a medication that reduced your chances of getting COVID by 5… https://t.co/A4WfncIX9G\n",
      "** The Trump admin. plans to end federal funding and support for coronavirus testing sites at the end of this month,… https://t.co/SlXjay1M3f\n",
      "** BREAKING: Trump is ending funding for 13 coronavirus testing sites in 5 states. This is an example of Trump slowing… https://t.co/M5Rws4dSUy\n",
      "** RT @DWUhlfelderLaw: Florida reports more than 5,000 new COVID-19 cases for second day in row\n",
      "** RT @PoliciaCali: Acate las recomendaciones y respete las medidas de distanciamiento para la prevención del contagio de Covid-19 en centros…\n",
      "** RT @hirxcane: Everything’s bigger in Texas, even the threat of corona https://t.co/0BiwmaNNv9\n",
      "** RT @AshaRangappa_: 9. The level of panic Trump has exhibited on this topic — and the downplay of COVID — is partially explained by this. He…\n",
      "** Dutch Minks Contract COVID-19 — And Appear To Infect Humans This outbreak of COVID-19 adds to the list of animals t… https://t.co/tbFlCkyofx\n",
      "** RT @mj_lee: Biden is speaking now:\n",
      "\n",
      "\"Perhaps most cruelly of all, if Donald Trump has his way, complications from COVID-19 could become the…\n",
      "** RT @juanrallo: El Congreso, a favor de esconder la cifra real de fallecidos por coronavirus. ¿Cuál es la razón de semejante oscurantismo?\n"
     ]
    }
   ],
   "source": [
    "for tweet in tweets:\n",
    "    print('**', tweet.text)\n",
    "    analysis = tb(tweet.text)\n",
    "    polarity = analysis.sentiment.polarity\n",
    "    tweets_score.append(polarity)"
   ]
  },
  {
   "cell_type": "code",
   "execution_count": 25,
   "metadata": {},
   "outputs": [
    {
     "name": "stdout",
     "output_type": "stream",
     "text": [
      "Vetor de polaridade: [0.0, 0.0, 0.0, 0.21212121212121213, 0.0, 0.0, -0.1, 0.0, -0.25, 0.2]\n",
      "Média de sentimento: 0.006212121212121213\n"
     ]
    }
   ],
   "source": [
    "print('Vetor de polaridade:', tweets_score)\n",
    "print('Média de sentimento: ' + str(np.mean(tweets_score))) # a função mean() pertence ao pacote numpy que irá realizar a média"
   ]
  },
  {
   "cell_type": "markdown",
   "metadata": {},
   "source": [
    " ### Analise de polaridade para tweets que não foram postados em inglês"
   ]
  },
  {
   "cell_type": "code",
   "execution_count": 32,
   "metadata": {},
   "outputs": [
    {
     "name": "stdout",
     "output_type": "stream",
     "text": [
      "Texto traduzido de ES para EN - RT @PoliciaCali: Follow the recommendations and respect the distancing measures for the prevention of Covid-19 infection in centers ...: \n",
      "Texto traduzido de ES para EN - RT @juanrallo: Congress, in favor of hiding the real number of deaths from coronavirus. What is the reason for such obscurantism?: \n"
     ]
    }
   ],
   "source": [
    "polarities = []\n",
    "\n",
    "for tweet in tweets:\n",
    "    analysis = tb(tweet.text)\n",
    "    \n",
    "    if analysis.detect_language() != 'en':\n",
    "        traducao = tb(str(analysis.translate(to='en')))\n",
    "        \n",
    "        print('Texto traduzido de ' + analysis.detect_language().upper() + ' para EN - %s: '%traducao )\n",
    "        \n",
    "        polarity = traducao.sentiment.polarity\n",
    "    else:\n",
    "        polarity = analysis.sentiment.polarity\n",
    "    \n",
    "    polarities.append(polarity)"
   ]
  },
  {
   "cell_type": "code",
   "execution_count": 30,
   "metadata": {},
   "outputs": [
    {
     "name": "stdout",
     "output_type": "stream",
     "text": [
      "Vetor de polaridade: [0.0, 0.0, 0.0, 0.21212121212121213, 0.0, 0.0, -0.1, 0.0, -0.25, 0.2]\n",
      "Média de sentimento: 0.006212121212121213\n"
     ]
    }
   ],
   "source": [
    "print('Vetor de polaridade:', tweets_score)\n",
    "print('Média de sentimento: ' + str(np.mean(tweets_score)))"
   ]
  },
  {
   "cell_type": "markdown",
   "metadata": {},
   "source": [
    "**Armazenar em arquivos**"
   ]
  },
  {
   "cell_type": "code",
   "execution_count": 34,
   "metadata": {},
   "outputs": [],
   "source": [
    "# Importar o pacote json\n",
    "\n",
    "import json"
   ]
  },
  {
   "cell_type": "code",
   "execution_count": 42,
   "metadata": {},
   "outputs": [
    {
     "data": {
      "text/plain": [
       "{'created_at': 'Wed Jun 24 15:09:36 +0000 2020',\n",
       " 'id': 1275808300119064577,\n",
       " 'id_str': '1275808300119064577',\n",
       " 'text': 'This woman on the news just said, imagine if there was a medication that reduced your chances of getting COVID by 5… https://t.co/A4WfncIX9G',\n",
       " 'truncated': True,\n",
       " 'entities': {'hashtags': [],\n",
       "  'symbols': [],\n",
       "  'user_mentions': [],\n",
       "  'urls': [{'url': 'https://t.co/A4WfncIX9G',\n",
       "    'expanded_url': 'https://twitter.com/i/web/status/1275808300119064577',\n",
       "    'display_url': 'twitter.com/i/web/status/1…',\n",
       "    'indices': [117, 140]}]},\n",
       " 'metadata': {'result_type': 'popular', 'iso_language_code': 'en'},\n",
       " 'source': '<a href=\"https://mobile.twitter.com\" rel=\"nofollow\">Twitter Web App</a>',\n",
       " 'in_reply_to_status_id': None,\n",
       " 'in_reply_to_status_id_str': None,\n",
       " 'in_reply_to_user_id': None,\n",
       " 'in_reply_to_user_id_str': None,\n",
       " 'in_reply_to_screen_name': None,\n",
       " 'user': {'id': 2346947384,\n",
       "  'id_str': '2346947384',\n",
       "  'name': 'Jasmyn',\n",
       "  'screen_name': 'JasmynBeKnowing',\n",
       "  'location': 'LA ',\n",
       "  'description': 'Editorial @Netflix + @StrongBlackLead. Retweeted by @Beyonce on 3.18.20. Obsessed with my dog + my plants. I just really love discourse.',\n",
       "  'url': 'https://t.co/VyyJFjz2E6',\n",
       "  'entities': {'url': {'urls': [{'url': 'https://t.co/VyyJFjz2E6',\n",
       "      'expanded_url': 'http://www.jasmynlawson.com',\n",
       "      'display_url': 'jasmynlawson.com',\n",
       "      'indices': [0, 23]}]},\n",
       "   'description': {'urls': []}},\n",
       "  'protected': False,\n",
       "  'followers_count': 39740,\n",
       "  'friends_count': 1140,\n",
       "  'listed_count': 281,\n",
       "  'created_at': 'Sun Feb 16 14:37:17 +0000 2014',\n",
       "  'favourites_count': 163610,\n",
       "  'utc_offset': None,\n",
       "  'time_zone': None,\n",
       "  'geo_enabled': True,\n",
       "  'verified': True,\n",
       "  'statuses_count': 83904,\n",
       "  'lang': None,\n",
       "  'contributors_enabled': False,\n",
       "  'is_translator': False,\n",
       "  'is_translation_enabled': False,\n",
       "  'profile_background_color': '000000',\n",
       "  'profile_background_image_url': 'http://abs.twimg.com/images/themes/theme14/bg.gif',\n",
       "  'profile_background_image_url_https': 'https://abs.twimg.com/images/themes/theme14/bg.gif',\n",
       "  'profile_background_tile': False,\n",
       "  'profile_image_url': 'http://pbs.twimg.com/profile_images/1260224927082270720/ml9_MGb1_normal.jpg',\n",
       "  'profile_image_url_https': 'https://pbs.twimg.com/profile_images/1260224927082270720/ml9_MGb1_normal.jpg',\n",
       "  'profile_banner_url': 'https://pbs.twimg.com/profile_banners/2346947384/1543987743',\n",
       "  'profile_link_color': 'E81C4F',\n",
       "  'profile_sidebar_border_color': '000000',\n",
       "  'profile_sidebar_fill_color': '000000',\n",
       "  'profile_text_color': '000000',\n",
       "  'profile_use_background_image': False,\n",
       "  'has_extended_profile': True,\n",
       "  'default_profile': False,\n",
       "  'default_profile_image': False,\n",
       "  'following': False,\n",
       "  'follow_request_sent': False,\n",
       "  'notifications': False,\n",
       "  'translator_type': 'none'},\n",
       " 'geo': None,\n",
       " 'coordinates': None,\n",
       " 'place': None,\n",
       " 'contributors': None,\n",
       " 'is_quote_status': False,\n",
       " 'retweet_count': 82849,\n",
       " 'favorite_count': 310408,\n",
       " 'favorited': False,\n",
       " 'retweeted': False,\n",
       " 'lang': 'en'}"
      ]
     },
     "execution_count": 42,
     "metadata": {},
     "output_type": "execute_result"
    }
   ],
   "source": [
    "status = tweets[0]\n",
    "\n",
    "# Converter para string\n",
    "json_str = json.dumps(status._json)\n",
    "\n",
    "# Deserialise string para um obejto python\n",
    "parsed = json.loads(json_str)"
   ]
  },
  {
   "cell_type": "code",
   "execution_count": 38,
   "metadata": {},
   "outputs": [
    {
     "data": {
      "text/plain": [
       "tweepy.models.SearchResults"
      ]
     },
     "execution_count": 38,
     "metadata": {},
     "output_type": "execute_result"
    }
   ],
   "source": [
    "type(tweets)"
   ]
  },
  {
   "cell_type": "code",
   "execution_count": 39,
   "metadata": {},
   "outputs": [
    {
     "data": {
      "text/plain": [
       "str"
      ]
     },
     "execution_count": 39,
     "metadata": {},
     "output_type": "execute_result"
    }
   ],
   "source": [
    "type(json_str)"
   ]
  },
  {
   "cell_type": "code",
   "execution_count": 40,
   "metadata": {},
   "outputs": [
    {
     "data": {
      "text/plain": [
       "dict"
      ]
     },
     "execution_count": 40,
     "metadata": {},
     "output_type": "execute_result"
    }
   ],
   "source": [
    "type(parsed)"
   ]
  },
  {
   "cell_type": "markdown",
   "metadata": {},
   "source": [
    "Agora que sabemos como fazer a deserialização dos dados, vamos realiza-la para todos e gravas em um JSON."
   ]
  },
  {
   "cell_type": "markdown",
   "metadata": {},
   "source": [
    "**Observação:** Antes de executar o script, defina o destino do *dataset* "
   ]
  },
  {
   "cell_type": "code",
   "execution_count": 52,
   "metadata": {},
   "outputs": [],
   "source": [
    "datasetPath = r'C:\\Users\\mbrug\\Desktop\\TwitterData\\JSON'\n",
    "\n",
    "with open(datasetPath+'\\\\tweets_keywords.json', 'a', encoding='utf8') as filename: #aberto em modo append\n",
    "    for tweet in tweets:\n",
    "        status = tweet\n",
    "        \n",
    "        #Conversão para string\n",
    "        json_str = json.dumps(status._json)\n",
    "        \n",
    "        #Deserialização da string para um objeto com formato json\n",
    "        parsed = json.loads(json_str)\n",
    "        \n",
    "        #Grava o tweet deserializado no arquivo\n",
    "        json.dump(parsed, filename, ensure_ascii=False, sort_keys=True, indent = 4, separators=(',', ':'))"
   ]
  },
  {
   "cell_type": "markdown",
   "metadata": {},
   "source": [
    "**Armazena no MongoDB**"
   ]
  },
  {
   "cell_type": "code",
   "execution_count": 55,
   "metadata": {},
   "outputs": [],
   "source": [
    "import pymongo"
   ]
  },
  {
   "cell_type": "code",
   "execution_count": 56,
   "metadata": {},
   "outputs": [],
   "source": [
    "# Conexão ao banco de dados\n",
    "con = pymongo.MongoClient('localhost', 27017)\n",
    "\n",
    "# Seleciona o banco de dados\n",
    "db = con.twitterdb"
   ]
  },
  {
   "cell_type": "code",
   "execution_count": 57,
   "metadata": {},
   "outputs": [],
   "source": [
    "# Seleciona a coleção para armazenar os tweets\n",
    "collection = db.tweets_keywords"
   ]
  },
  {
   "cell_type": "code",
   "execution_count": 58,
   "metadata": {},
   "outputs": [
    {
     "name": "stderr",
     "output_type": "stream",
     "text": [
      "C:\\Users\\mbrug\\.conda\\envs\\dev\\lib\\site-packages\\ipykernel_launcher.py:2: DeprecationWarning: count is deprecated. Use estimated_document_count or count_documents instead. Please note that $where must be replaced by $expr, $near must be replaced by $geoWithin with $center, and $nearSphere must be replaced by $geoWithin with $centerSphere\n",
      "  \n"
     ]
    },
    {
     "data": {
      "text/plain": [
       "0"
      ]
     },
     "execution_count": 58,
     "metadata": {},
     "output_type": "execute_result"
    }
   ],
   "source": [
    "# Lista a quantidade de tweets existentes na coleção\n",
    "db.tweets_keywords.count() #Irá causar um warnning por ainda não ter inserido dados"
   ]
  },
  {
   "cell_type": "code",
   "execution_count": 61,
   "metadata": {},
   "outputs": [
    {
     "ename": "DuplicateKeyError",
     "evalue": "E11000 duplicate key error collection: twitterdb.tweets_keywords index: _id_ dup key: { _id: ObjectId('5ef509411c8066c617cd9bb7') }",
     "output_type": "error",
     "traceback": [
      "\u001b[1;31m---------------------------------------------------------------------------\u001b[0m",
      "\u001b[1;31mDuplicateKeyError\u001b[0m                         Traceback (most recent call last)",
      "\u001b[1;32m<ipython-input-61-10d8d0f4969c>\u001b[0m in \u001b[0;36m<module>\u001b[1;34m\u001b[0m\n\u001b[0;32m      1\u001b[0m \u001b[1;32mfor\u001b[0m \u001b[0mtweet\u001b[0m \u001b[1;32min\u001b[0m \u001b[0mtweets\u001b[0m\u001b[1;33m:\u001b[0m\u001b[1;33m\u001b[0m\u001b[1;33m\u001b[0m\u001b[0m\n\u001b[1;32m----> 2\u001b[1;33m     \u001b[0mdb\u001b[0m\u001b[1;33m.\u001b[0m\u001b[0mtweets_keywords\u001b[0m\u001b[1;33m.\u001b[0m\u001b[0minsert_one\u001b[0m\u001b[1;33m(\u001b[0m\u001b[0mtweet\u001b[0m\u001b[1;33m.\u001b[0m\u001b[0m_json\u001b[0m\u001b[1;33m)\u001b[0m\u001b[1;33m\u001b[0m\u001b[1;33m\u001b[0m\u001b[0m\n\u001b[0m",
      "\u001b[1;32m~\\.conda\\envs\\dev\\lib\\site-packages\\pymongo\\collection.py\u001b[0m in \u001b[0;36minsert_one\u001b[1;34m(self, document, bypass_document_validation, session)\u001b[0m\n\u001b[0;32m    696\u001b[0m                          \u001b[0mwrite_concern\u001b[0m\u001b[1;33m=\u001b[0m\u001b[0mwrite_concern\u001b[0m\u001b[1;33m,\u001b[0m\u001b[1;33m\u001b[0m\u001b[1;33m\u001b[0m\u001b[0m\n\u001b[0;32m    697\u001b[0m                          \u001b[0mbypass_doc_val\u001b[0m\u001b[1;33m=\u001b[0m\u001b[0mbypass_document_validation\u001b[0m\u001b[1;33m,\u001b[0m\u001b[1;33m\u001b[0m\u001b[1;33m\u001b[0m\u001b[0m\n\u001b[1;32m--> 698\u001b[1;33m                          session=session),\n\u001b[0m\u001b[0;32m    699\u001b[0m             write_concern.acknowledged)\n\u001b[0;32m    700\u001b[0m \u001b[1;33m\u001b[0m\u001b[0m\n",
      "\u001b[1;32m~\\.conda\\envs\\dev\\lib\\site-packages\\pymongo\\collection.py\u001b[0m in \u001b[0;36m_insert\u001b[1;34m(self, docs, ordered, check_keys, manipulate, write_concern, op_id, bypass_doc_val, session)\u001b[0m\n\u001b[0;32m    610\u001b[0m             return self._insert_one(\n\u001b[0;32m    611\u001b[0m                 \u001b[0mdocs\u001b[0m\u001b[1;33m,\u001b[0m \u001b[0mordered\u001b[0m\u001b[1;33m,\u001b[0m \u001b[0mcheck_keys\u001b[0m\u001b[1;33m,\u001b[0m \u001b[0mmanipulate\u001b[0m\u001b[1;33m,\u001b[0m \u001b[0mwrite_concern\u001b[0m\u001b[1;33m,\u001b[0m \u001b[0mop_id\u001b[0m\u001b[1;33m,\u001b[0m\u001b[1;33m\u001b[0m\u001b[1;33m\u001b[0m\u001b[0m\n\u001b[1;32m--> 612\u001b[1;33m                 bypass_doc_val, session)\n\u001b[0m\u001b[0;32m    613\u001b[0m \u001b[1;33m\u001b[0m\u001b[0m\n\u001b[0;32m    614\u001b[0m         \u001b[0mids\u001b[0m \u001b[1;33m=\u001b[0m \u001b[1;33m[\u001b[0m\u001b[1;33m]\u001b[0m\u001b[1;33m\u001b[0m\u001b[1;33m\u001b[0m\u001b[0m\n",
      "\u001b[1;32m~\\.conda\\envs\\dev\\lib\\site-packages\\pymongo\\collection.py\u001b[0m in \u001b[0;36m_insert_one\u001b[1;34m(self, doc, ordered, check_keys, manipulate, write_concern, op_id, bypass_doc_val, session)\u001b[0m\n\u001b[0;32m    598\u001b[0m \u001b[1;33m\u001b[0m\u001b[0m\n\u001b[0;32m    599\u001b[0m         self.__database.client._retryable_write(\n\u001b[1;32m--> 600\u001b[1;33m             acknowledged, _insert_command, session)\n\u001b[0m\u001b[0;32m    601\u001b[0m \u001b[1;33m\u001b[0m\u001b[0m\n\u001b[0;32m    602\u001b[0m         \u001b[1;32mif\u001b[0m \u001b[1;32mnot\u001b[0m \u001b[0misinstance\u001b[0m\u001b[1;33m(\u001b[0m\u001b[0mdoc\u001b[0m\u001b[1;33m,\u001b[0m \u001b[0mRawBSONDocument\u001b[0m\u001b[1;33m)\u001b[0m\u001b[1;33m:\u001b[0m\u001b[1;33m\u001b[0m\u001b[1;33m\u001b[0m\u001b[0m\n",
      "\u001b[1;32m~\\.conda\\envs\\dev\\lib\\site-packages\\pymongo\\mongo_client.py\u001b[0m in \u001b[0;36m_retryable_write\u001b[1;34m(self, retryable, func, session)\u001b[0m\n\u001b[0;32m   1490\u001b[0m         \u001b[1;34m\"\"\"Internal retryable write helper.\"\"\"\u001b[0m\u001b[1;33m\u001b[0m\u001b[1;33m\u001b[0m\u001b[0m\n\u001b[0;32m   1491\u001b[0m         \u001b[1;32mwith\u001b[0m \u001b[0mself\u001b[0m\u001b[1;33m.\u001b[0m\u001b[0m_tmp_session\u001b[0m\u001b[1;33m(\u001b[0m\u001b[0msession\u001b[0m\u001b[1;33m)\u001b[0m \u001b[1;32mas\u001b[0m \u001b[0ms\u001b[0m\u001b[1;33m:\u001b[0m\u001b[1;33m\u001b[0m\u001b[1;33m\u001b[0m\u001b[0m\n\u001b[1;32m-> 1492\u001b[1;33m             \u001b[1;32mreturn\u001b[0m \u001b[0mself\u001b[0m\u001b[1;33m.\u001b[0m\u001b[0m_retry_with_session\u001b[0m\u001b[1;33m(\u001b[0m\u001b[0mretryable\u001b[0m\u001b[1;33m,\u001b[0m \u001b[0mfunc\u001b[0m\u001b[1;33m,\u001b[0m \u001b[0ms\u001b[0m\u001b[1;33m,\u001b[0m \u001b[1;32mNone\u001b[0m\u001b[1;33m)\u001b[0m\u001b[1;33m\u001b[0m\u001b[1;33m\u001b[0m\u001b[0m\n\u001b[0m\u001b[0;32m   1493\u001b[0m \u001b[1;33m\u001b[0m\u001b[0m\n\u001b[0;32m   1494\u001b[0m     \u001b[1;32mdef\u001b[0m \u001b[0m_reset_server\u001b[0m\u001b[1;33m(\u001b[0m\u001b[0mself\u001b[0m\u001b[1;33m,\u001b[0m \u001b[0maddress\u001b[0m\u001b[1;33m)\u001b[0m\u001b[1;33m:\u001b[0m\u001b[1;33m\u001b[0m\u001b[1;33m\u001b[0m\u001b[0m\n",
      "\u001b[1;32m~\\.conda\\envs\\dev\\lib\\site-packages\\pymongo\\mongo_client.py\u001b[0m in \u001b[0;36m_retry_with_session\u001b[1;34m(self, retryable, func, session, bulk)\u001b[0m\n\u001b[0;32m   1383\u001b[0m                             \u001b[1;32mraise\u001b[0m \u001b[0mlast_error\u001b[0m\u001b[1;33m\u001b[0m\u001b[1;33m\u001b[0m\u001b[0m\n\u001b[0;32m   1384\u001b[0m                         \u001b[0mretryable\u001b[0m \u001b[1;33m=\u001b[0m \u001b[1;32mFalse\u001b[0m\u001b[1;33m\u001b[0m\u001b[1;33m\u001b[0m\u001b[0m\n\u001b[1;32m-> 1385\u001b[1;33m                     \u001b[1;32mreturn\u001b[0m \u001b[0mfunc\u001b[0m\u001b[1;33m(\u001b[0m\u001b[0msession\u001b[0m\u001b[1;33m,\u001b[0m \u001b[0msock_info\u001b[0m\u001b[1;33m,\u001b[0m \u001b[0mretryable\u001b[0m\u001b[1;33m)\u001b[0m\u001b[1;33m\u001b[0m\u001b[1;33m\u001b[0m\u001b[0m\n\u001b[0m\u001b[0;32m   1386\u001b[0m             \u001b[1;32mexcept\u001b[0m \u001b[0mServerSelectionTimeoutError\u001b[0m\u001b[1;33m:\u001b[0m\u001b[1;33m\u001b[0m\u001b[1;33m\u001b[0m\u001b[0m\n\u001b[0;32m   1387\u001b[0m                 \u001b[1;32mif\u001b[0m \u001b[0mis_retrying\u001b[0m\u001b[1;33m(\u001b[0m\u001b[1;33m)\u001b[0m\u001b[1;33m:\u001b[0m\u001b[1;33m\u001b[0m\u001b[1;33m\u001b[0m\u001b[0m\n",
      "\u001b[1;32m~\\.conda\\envs\\dev\\lib\\site-packages\\pymongo\\collection.py\u001b[0m in \u001b[0;36m_insert_command\u001b[1;34m(session, sock_info, retryable_write)\u001b[0m\n\u001b[0;32m    595\u001b[0m                 retryable_write=retryable_write)\n\u001b[0;32m    596\u001b[0m \u001b[1;33m\u001b[0m\u001b[0m\n\u001b[1;32m--> 597\u001b[1;33m             \u001b[0m_check_write_command_response\u001b[0m\u001b[1;33m(\u001b[0m\u001b[0mresult\u001b[0m\u001b[1;33m)\u001b[0m\u001b[1;33m\u001b[0m\u001b[1;33m\u001b[0m\u001b[0m\n\u001b[0m\u001b[0;32m    598\u001b[0m \u001b[1;33m\u001b[0m\u001b[0m\n\u001b[0;32m    599\u001b[0m         self.__database.client._retryable_write(\n",
      "\u001b[1;32m~\\.conda\\envs\\dev\\lib\\site-packages\\pymongo\\helpers.py\u001b[0m in \u001b[0;36m_check_write_command_response\u001b[1;34m(result)\u001b[0m\n\u001b[0;32m    219\u001b[0m     \u001b[0mwrite_errors\u001b[0m \u001b[1;33m=\u001b[0m \u001b[0mresult\u001b[0m\u001b[1;33m.\u001b[0m\u001b[0mget\u001b[0m\u001b[1;33m(\u001b[0m\u001b[1;34m\"writeErrors\"\u001b[0m\u001b[1;33m)\u001b[0m\u001b[1;33m\u001b[0m\u001b[1;33m\u001b[0m\u001b[0m\n\u001b[0;32m    220\u001b[0m     \u001b[1;32mif\u001b[0m \u001b[0mwrite_errors\u001b[0m\u001b[1;33m:\u001b[0m\u001b[1;33m\u001b[0m\u001b[1;33m\u001b[0m\u001b[0m\n\u001b[1;32m--> 221\u001b[1;33m         \u001b[0m_raise_last_write_error\u001b[0m\u001b[1;33m(\u001b[0m\u001b[0mwrite_errors\u001b[0m\u001b[1;33m)\u001b[0m\u001b[1;33m\u001b[0m\u001b[1;33m\u001b[0m\u001b[0m\n\u001b[0m\u001b[0;32m    222\u001b[0m \u001b[1;33m\u001b[0m\u001b[0m\n\u001b[0;32m    223\u001b[0m     \u001b[0merror\u001b[0m \u001b[1;33m=\u001b[0m \u001b[0mresult\u001b[0m\u001b[1;33m.\u001b[0m\u001b[0mget\u001b[0m\u001b[1;33m(\u001b[0m\u001b[1;34m\"writeConcernError\"\u001b[0m\u001b[1;33m)\u001b[0m\u001b[1;33m\u001b[0m\u001b[1;33m\u001b[0m\u001b[0m\n",
      "\u001b[1;32m~\\.conda\\envs\\dev\\lib\\site-packages\\pymongo\\helpers.py\u001b[0m in \u001b[0;36m_raise_last_write_error\u001b[1;34m(write_errors)\u001b[0m\n\u001b[0;32m    200\u001b[0m     \u001b[0merror\u001b[0m \u001b[1;33m=\u001b[0m \u001b[0mwrite_errors\u001b[0m\u001b[1;33m[\u001b[0m\u001b[1;33m-\u001b[0m\u001b[1;36m1\u001b[0m\u001b[1;33m]\u001b[0m\u001b[1;33m\u001b[0m\u001b[1;33m\u001b[0m\u001b[0m\n\u001b[0;32m    201\u001b[0m     \u001b[1;32mif\u001b[0m \u001b[0merror\u001b[0m\u001b[1;33m.\u001b[0m\u001b[0mget\u001b[0m\u001b[1;33m(\u001b[0m\u001b[1;34m\"code\"\u001b[0m\u001b[1;33m)\u001b[0m \u001b[1;33m==\u001b[0m \u001b[1;36m11000\u001b[0m\u001b[1;33m:\u001b[0m\u001b[1;33m\u001b[0m\u001b[1;33m\u001b[0m\u001b[0m\n\u001b[1;32m--> 202\u001b[1;33m         \u001b[1;32mraise\u001b[0m \u001b[0mDuplicateKeyError\u001b[0m\u001b[1;33m(\u001b[0m\u001b[0merror\u001b[0m\u001b[1;33m.\u001b[0m\u001b[0mget\u001b[0m\u001b[1;33m(\u001b[0m\u001b[1;34m\"errmsg\"\u001b[0m\u001b[1;33m)\u001b[0m\u001b[1;33m,\u001b[0m \u001b[1;36m11000\u001b[0m\u001b[1;33m,\u001b[0m \u001b[0merror\u001b[0m\u001b[1;33m)\u001b[0m\u001b[1;33m\u001b[0m\u001b[1;33m\u001b[0m\u001b[0m\n\u001b[0m\u001b[0;32m    203\u001b[0m     \u001b[1;32mraise\u001b[0m \u001b[0mWriteError\u001b[0m\u001b[1;33m(\u001b[0m\u001b[0merror\u001b[0m\u001b[1;33m.\u001b[0m\u001b[0mget\u001b[0m\u001b[1;33m(\u001b[0m\u001b[1;34m\"errmsg\"\u001b[0m\u001b[1;33m)\u001b[0m\u001b[1;33m,\u001b[0m \u001b[0merror\u001b[0m\u001b[1;33m.\u001b[0m\u001b[0mget\u001b[0m\u001b[1;33m(\u001b[0m\u001b[1;34m\"code\"\u001b[0m\u001b[1;33m)\u001b[0m\u001b[1;33m,\u001b[0m \u001b[0merror\u001b[0m\u001b[1;33m)\u001b[0m\u001b[1;33m\u001b[0m\u001b[1;33m\u001b[0m\u001b[0m\n\u001b[0;32m    204\u001b[0m \u001b[1;33m\u001b[0m\u001b[0m\n",
      "\u001b[1;31mDuplicateKeyError\u001b[0m: E11000 duplicate key error collection: twitterdb.tweets_keywords index: _id_ dup key: { _id: ObjectId('5ef509411c8066c617cd9bb7') }"
     ]
    }
   ],
   "source": [
    "for tweet in tweets:\n",
    "    collection.insert_one(tweet._json)"
   ]
  },
  {
   "cell_type": "code",
   "execution_count": 64,
   "metadata": {},
   "outputs": [
    {
     "data": {
      "text/plain": [
       "10"
      ]
     },
     "execution_count": 64,
     "metadata": {},
     "output_type": "execute_result"
    }
   ],
   "source": [
    "# Lista a quantidade de tweets existentes na coleção\n",
    "collection.count_documents({})"
   ]
  }
 ],
 "metadata": {
  "kernelspec": {
   "display_name": "Python 3",
   "language": "python",
   "name": "python3"
  },
  "language_info": {
   "codemirror_mode": {
    "name": "ipython",
    "version": 3
   },
   "file_extension": ".py",
   "mimetype": "text/x-python",
   "name": "python",
   "nbconvert_exporter": "python",
   "pygments_lexer": "ipython3",
   "version": "3.7.1"
  }
 },
 "nbformat": 4,
 "nbformat_minor": 4
}
